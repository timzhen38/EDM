{
 "cells": [
  {
   "cell_type": "code",
   "metadata": {
    "tags": [],
    "cell_id": "00000-99a9d834-fbf6-42f0-8912-cbd7684e64f4",
    "deepnote_to_be_reexecuted": false,
    "source_hash": "cc0515f2",
    "execution_start": 1634247448113,
    "execution_millis": 2989,
    "deepnote_cell_type": "code"
   },
   "source": "import tensorflow as tf\nfrom tensorflow import keras",
   "execution_count": null,
   "outputs": []
  },
  {
   "cell_type": "code",
   "metadata": {
    "tags": [],
    "cell_id": "00001-d24bfa85-9996-46be-b727-646be031bda6",
    "deepnote_to_be_reexecuted": false,
    "source_hash": "28c4a598",
    "execution_start": 1634247451108,
    "execution_millis": 3,
    "deepnote_cell_type": "code"
   },
   "source": "fashiondata = tf.keras.datasets.mnist",
   "execution_count": null,
   "outputs": []
  },
  {
   "cell_type": "code",
   "metadata": {
    "tags": [],
    "cell_id": "00002-9a2b47a4-6b18-46c4-aa14-4b4c85a720d1",
    "deepnote_to_be_reexecuted": false,
    "source_hash": "24a4fcf9",
    "execution_start": 1634247451117,
    "execution_millis": 329,
    "deepnote_cell_type": "code"
   },
   "source": "(x_train, y_train), (x_test, y_test) = fashiondata.load_data()",
   "execution_count": null,
   "outputs": []
  },
  {
   "cell_type": "code",
   "metadata": {
    "tags": [],
    "cell_id": "00003-33049504-f4d1-456f-8f71-d0d6d63814aa",
    "deepnote_to_be_reexecuted": false,
    "source_hash": "c8024d5f",
    "execution_start": 1634247451453,
    "execution_millis": 189,
    "deepnote_cell_type": "code"
   },
   "source": "x_train, x_test = x_train/784, x_test/784",
   "execution_count": null,
   "outputs": []
  },
  {
   "cell_type": "code",
   "metadata": {
    "tags": [],
    "cell_id": "00004-79986579-c004-4bee-8ba2-8960893b158f",
    "deepnote_to_be_reexecuted": false,
    "source_hash": "3b963da5",
    "execution_start": 1634247451644,
    "execution_millis": 35,
    "deepnote_cell_type": "code"
   },
   "source": "model = tf.keras.models.Sequential([\n    tf.keras.layers.Flatten(input_shape=(28,28)), #why do we need to flatten data?\n    tf.keras.layers.Dense(128,activation='relu'), #neuron configurations\n    tf.keras.layers.Dropout(0.2), #dropout regulation layer\n    tf.keras.layers.Dense(10,activation='softmax') #sigmoid - \n])",
   "execution_count": null,
   "outputs": []
  },
  {
   "cell_type": "code",
   "metadata": {
    "tags": [],
    "cell_id": "00005-d2de98d1-01d0-4bca-bc56-c3188cc93aea",
    "deepnote_to_be_reexecuted": false,
    "source_hash": "315799d4",
    "execution_start": 1634247461325,
    "execution_millis": 20,
    "deepnote_cell_type": "code"
   },
   "source": "model.compile(optimizer='adam', #look at documentation for list of options\n              loss='sparse_categorical_crossentropy', #ditto\n              metrics=['accuracy']) #ditto\n",
   "execution_count": null,
   "outputs": []
  },
  {
   "cell_type": "code",
   "metadata": {
    "tags": [],
    "cell_id": "00006-6d6930e2-c922-405e-8b29-3b1e20278fa7",
    "deepnote_to_be_reexecuted": false,
    "source_hash": "6092e38e",
    "execution_start": 1634247465616,
    "execution_millis": 24977,
    "deepnote_cell_type": "code"
   },
   "source": "model.fit(x_train,y_train, epochs=5)",
   "execution_count": null,
   "outputs": [
    {
     "name": "stdout",
     "text": "Epoch 1/5\n1875/1875 [==============================] - 4s 2ms/step - loss: 0.6152 - accuracy: 0.8387\nEpoch 2/5\n1875/1875 [==============================] - 3s 2ms/step - loss: 0.1902 - accuracy: 0.9436\nEpoch 3/5\n1875/1875 [==============================] - 3s 2ms/step - loss: 0.1410 - accuracy: 0.9584\nEpoch 4/5\n1875/1875 [==============================] - 3s 2ms/step - loss: 0.1038 - accuracy: 0.9693\nEpoch 5/5\n1834/1875 [============================>.] - ETA: 0s - loss: 0.0874 - accuracy: 0.9738",
     "output_type": "stream"
    },
    {
     "name": "stdout",
     "text": "1875/1875 [==============================] - 3s 2ms/step - loss: 0.0874 - accuracy: 0.9738\n",
     "output_type": "stream"
    },
    {
     "output_type": "execute_result",
     "execution_count": 8,
     "data": {
      "text/plain": "<tensorflow.python.keras.callbacks.History at 0x7fa7b050bd50>"
     },
     "metadata": {}
    }
   ]
  },
  {
   "cell_type": "code",
   "metadata": {
    "tags": [],
    "cell_id": "00007-b684dcc9-9f61-4506-91cb-3522fb860fdb",
    "deepnote_to_be_reexecuted": false,
    "source_hash": "8434e76d",
    "execution_start": 1634247549881,
    "execution_millis": 499,
    "deepnote_cell_type": "code"
   },
   "source": "model.evaluate(x_test, y_test)",
   "execution_count": null,
   "outputs": [
    {
     "name": "stdout",
     "text": "313/313 [==============================] - 0s 1ms/step - loss: 0.0846 - accuracy: 0.9747\n",
     "output_type": "stream"
    },
    {
     "output_type": "execute_result",
     "execution_count": 9,
     "data": {
      "text/plain": "[0.08459199965000153, 0.9746999740600586]"
     },
     "metadata": {}
    }
   ]
  },
  {
   "cell_type": "markdown",
   "source": "<a style='text-decoration:none;line-height:16px;display:flex;color:#5B5B62;padding:10px;justify-content:end;' href='https://deepnote.com?utm_source=created-in-deepnote-cell&projectId=1c58af11-5d4f-40f3-a808-e868f2c28485' target=\"_blank\">\n<img alt='Created in deepnote.com' style='display:inline;max-height:16px;margin:0px;margin-right:7.5px;' src='data:image/svg+xml;base64,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' > </img>\nCreated in <span style='font-weight:600;margin-left:4px;'>Deepnote</span></a>",
   "metadata": {
    "tags": [],
    "created_in_deepnote_cell": true,
    "deepnote_cell_type": "markdown"
   }
  }
 ],
 "nbformat": 4,
 "nbformat_minor": 2,
 "metadata": {
  "orig_nbformat": 2,
  "deepnote": {
   "is_reactive": false
  },
  "deepnote_notebook_id": "1e42acac-c185-47cc-90da-05816c5db7b9",
  "deepnote_execution_queue": []
 }
}