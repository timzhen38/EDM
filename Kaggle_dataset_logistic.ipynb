{
 "cells": [
  {
   "cell_type": "code",
   "metadata": {
    "tags": [],
    "cell_id": "00000-000c4983-1e2e-409b-945f-8eddab54ae5d",
    "deepnote_to_be_reexecuted": false,
    "source_hash": "a2b7086c",
    "execution_start": 1633995947200,
    "execution_millis": 13,
    "deepnote_cell_type": "code"
   },
   "source": "import tensorflow.compat.v1 as tf\ntf.disable_v2_behavior() \nimport numpy as np\nimport pandas as pd\nimport csv\nimport matplotlib.pyplot as plt\n\n~\n\n#data = pd.read_csv(\"archive/exoTrain.csv\", header=None)\ndata = pd.read_csv(\"archive/exoTrain.csv\")\n\n#In what format do we feed the data into the model?\n#  {1, 2} if exoplanet or not = W + b\n# 500 different features: label = flux1 + flux2 +... flux500 + b\n\n#split data into training and testing set:\n#training_data_y = data_y['LABEL']\n\n~\n\n\n#drop a column, axis(orientation) indicates either 0 for rows, or 1 for columns\n#training_data_x = data.drop(data.columns[[0]], axis=1)\n#training_data_x = training_data_x.drop(index=0)\n\nflux1 = data['FLUX.1'].values\nflux2 = data['FLUX.2'].values\ntraining_data_x = np.asarray(flux1)\ntraining_data_y = np.asarray(flux2)\n\n#training_data_x = data.drop(level='FLUX.1')\n#print(training_data_x)\n\n#training_data == dataframe of all flux columns and their values\n\"\"\"\n#generate x-axis based on 30-minute intervals\nx_axis = np.zeros((training_data_x.shape[1],))\nfor col in range(x_axis.shape[0]):\n    x_axis[col] = ((col * 30)/24 / 80) #30 minute intervals per day (80 day period)\n\"\"\"\n#plt.plot(x_axis, training_data.iloc[1], 'o')\n\nlearning_rate = 0.0000000001\nepochs = 500\nn_samples = training_data_x.shape[0]\n\ndisplay_step = 50\n\n~\n\nX = tf.placeholder('float')\nY = tf.placeholder('float')\n\nrng = np.random\nW = tf.Variable(rng.randn(), name=\"Weight\")\nb = tf.Variable(rng.randn(), name='bias')\n\npred = tf.add(tf.multiply(X,W),b)\n\nerror = tf.reduce_sum(tf.pow(pred-Y,2)) / (2*n_samples)\n\noptimizer = tf.train.GradientDescentOptimizer(learning_rate).minimize(error)\n\ninit = tf.global_variables_initializer()\n\n~\n\n#Start training\nwith tf.Session() as sess: #handles cleanup of tf.Session() resources https://preshing.com/20110920/the-python-with-statement-by-example/\n\n    # Run the initializer\n    sess.run(init) # load variables\n\n    # Fit all training data\n    for epoch in range(epochs): # 1 - 1000\n\n        #pairwise list, for each element in this list\n        for (x, y) in zip(training_data_x, training_data_y): #((train_X[0],train_Y[0]),(train_X[1],train_Y[1],...))\n            sess.run(optimizer, feed_dict={X: x, Y: y}) #feed model our data sets\n\n        # Display logs per epoch step        \n        if (epoch+1) % display_step == 0:\n            c = sess.run(error, feed_dict={X: training_data_x, Y:training_data_y})\n            print(\"Epoch:\", '%04d' % (epoch+1), \"error=\", \"{:.9f}\".format(c), \\\n                \"W=\", sess.run(W), \"b=\", sess.run(b))      ",
   "execution_count": null,
   "outputs": [
    {
     "output_type": "error",
     "ename": "SyntaxError",
     "evalue": "invalid syntax (431896382.py, line 8)",
     "traceback": [
      "\u001b[0;36m  File \u001b[0;32m\"/tmp/ipykernel_198/431896382.py\"\u001b[0;36m, line \u001b[0;32m8\u001b[0m\n\u001b[0;31m    ~\u001b[0m\n\u001b[0m     ^\u001b[0m\n\u001b[0;31mSyntaxError\u001b[0m\u001b[0;31m:\u001b[0m invalid syntax\n"
     ]
    }
   ]
  },
  {
   "cell_type": "markdown",
   "source": "<a style='text-decoration:none;line-height:16px;display:flex;color:#5B5B62;padding:10px;justify-content:end;' href='https://deepnote.com?utm_source=created-in-deepnote-cell&projectId=1c58af11-5d4f-40f3-a808-e868f2c28485' target=\"_blank\">\n<img alt='Created in deepnote.com' style='display:inline;max-height:16px;margin:0px;margin-right:7.5px;' src='data:image/svg+xml;base64,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' > </img>\nCreated in <span style='font-weight:600;margin-left:4px;'>Deepnote</span></a>",
   "metadata": {
    "tags": [],
    "created_in_deepnote_cell": true,
    "deepnote_cell_type": "markdown"
   }
  }
 ],
 "nbformat": 4,
 "nbformat_minor": 2,
 "metadata": {
  "orig_nbformat": 2,
  "deepnote": {
   "is_reactive": true
  },
  "deepnote_notebook_id": "0f9c0be7-3c57-441e-8861-b5f29f54fce5",
  "deepnote_execution_queue": []
 }
}