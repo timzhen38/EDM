{
 "cells": [
  {
   "cell_type": "code",
   "execution_count": 1,
   "id": "e527f9ad-8317-4de2-8f74-22ecbd6e9319",
   "metadata": {},
   "outputs": [],
   "source": [
    "#normalize X values to help model converge\n",
    "def normalize(data):\n",
    "    mean = np.mean(data, axis=0)\n",
    "    std = np.std(data, axis=0)\n",
    "    data = (data - mean) / std\n",
    "    return data"
   ]
  },
  {
   "cell_type": "code",
   "execution_count": 2,
   "id": "74f77034-45e3-4765-842c-cd58f92c88a1",
   "metadata": {},
   "outputs": [],
   "source": [
    "import lightkurve as lk\n",
    "import pandas as pd\n",
    "import numpy as np\n",
    "\n",
    "pixelfile = lk.search_targetpixelfile(\"Trappist-1\")[1].download()\n",
    "lc = pixelfile.to_lightcurve(method=\"pld\")\n",
    "matrix = np.zeros((2,3197))\n",
    "matrix[0] = np.array(lc.flux)[:3197]\n",
    "ts = lk.read(\"Lightcurves/HAT-P-7b-lc.fits\")\n",
    "lc = lk.LightCurve(ts)\n",
    "matrix[1] = np.array(lc.flux)[:3197]\n",
    "inference = normalize(matrix)"
   ]
  },
  {
   "cell_type": "code",
   "execution_count": 3,
   "id": "5acfe6fe-6631-43b6-9b11-0bc430ba5872",
   "metadata": {},
   "outputs": [],
   "source": [
    "with open('Models/lk.npy', 'wb') as f:\n",
    "    np.save(f, inference)"
   ]
  }
 ],
 "metadata": {
  "environment": {
   "kernel": "python3",
   "name": "tf2-gpu.2-6.m82",
   "type": "gcloud",
   "uri": "gcr.io/deeplearning-platform-release/tf2-gpu.2-6:m82"
  },
  "kernelspec": {
   "display_name": "Python 3",
   "language": "python",
   "name": "python3"
  },
  "language_info": {
   "codemirror_mode": {
    "name": "ipython",
    "version": 3
   },
   "file_extension": ".py",
   "mimetype": "text/x-python",
   "name": "python",
   "nbconvert_exporter": "python",
   "pygments_lexer": "ipython3",
   "version": "3.7.10"
  }
 },
 "nbformat": 4,
 "nbformat_minor": 5
}
