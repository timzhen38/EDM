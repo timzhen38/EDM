{
 "cells": [
  {
   "cell_type": "code",
   "execution_count": 1,
   "id": "378fd52e",
   "metadata": {
    "cell_id": "00000-cddb6f2f-8474-4ca8-90a9-66a3832ddbbe",
    "deepnote_cell_type": "code",
    "deepnote_to_be_reexecuted": false,
    "execution_millis": 8,
    "execution_start": 1635035607510,
    "source_hash": "b8b92fc9"
   },
   "outputs": [],
   "source": [
    "from astropy.io import fits\n",
    "import numpy as np\n",
    "from tensorflow import keras\n",
    "import pickle\n",
    "from numpy import exp\n",
    "import pandas as pd\n",
    "import os\n",
    "os.environ['TF_CPP_MIN_LOG_LEVEL'] = '3' "
   ]
  },
  {
   "cell_type": "code",
   "execution_count": 2,
   "id": "9bc30ec9",
   "metadata": {
    "cell_id": "00002-cdd7ab37-1811-40a1-a86a-2b80d0360d39",
    "deepnote_cell_type": "code",
    "deepnote_to_be_reexecuted": false,
    "execution_millis": 46,
    "execution_start": 1635035608371,
    "source_hash": "3d3dfdfb"
   },
   "outputs": [
    {
     "name": "stdout",
     "output_type": "stream",
     "text": [
      "Filename: ../mastDownload/TESS/tess2021175071901-s0040-0000000027769688-0211-a_fast/tess2021175071901-s0040-0000000027769688-0211-a_fast-lc.fits\n",
      "No.    Name      Ver    Type      Cards   Dimensions   Format\n",
      "  0  PRIMARY       1 PrimaryHDU      44   ()      \n",
      "  1  LIGHTCURVE    1 BinTableHDU    167   121861R x 20C   [D, E, J, E, E, E, E, E, E, J, D, E, D, E, D, E, D, E, E, E]   \n",
      "  2  APERTURE      1 ImageHDU        49   (11, 11)   int32   \n"
     ]
    }
   ],
   "source": [
    "fits_file = \"../mastDownload/TESS/tess2021175071901-s0040-0000000027769688-0211-a_fast/tess2021175071901-s0040-0000000027769688-0211-a_fast-lc.fits\"\n",
    "fits.info(fits_file)\n",
    "fits.getdata(fits_file, ext=1).columns\n",
    "\n",
    "with fits.open(fits_file, mode=\"readonly\") as hdulist:\n",
    "    pdcsap_fluxes = hdulist[1].data['PDCSAP_FLUX']"
   ]
  },
  {
   "cell_type": "code",
   "execution_count": 3,
   "id": "f58a9730-0ed5-4a28-8de1-ee40ccf41f24",
   "metadata": {},
   "outputs": [],
   "source": [
    "def normalize(data):\n",
    "    mean = np.mean(data, axis=0)\n",
    "    std = np.std(data, axis=0)\n",
    "    data = (data - mean) / std\n",
    "    return data"
   ]
  },
  {
   "cell_type": "code",
   "execution_count": 4,
   "id": "f24db779-b94b-4d54-ab55-bb649185c924",
   "metadata": {},
   "outputs": [],
   "source": [
    "def convert_3D(matrix):\n",
    "    return np.expand_dims(matrix, -1)"
   ]
  },
  {
   "cell_type": "code",
   "execution_count": 5,
   "id": "22cfd034-f231-41ab-9fd0-2dacd676b8c5",
   "metadata": {},
   "outputs": [],
   "source": [
    "#retrieve and format data - into labels and examples from the dataset\n",
    "def features_and_labels(filename):\n",
    "    data = np.matrix(pd.read_csv(filename).values)\n",
    "\n",
    "    #we need to transpose data sets to be compatable with our weight vectors\n",
    "    data_y = data[:, 0]\n",
    "    data_y-=1 #binaryization of the categorical data\n",
    "\n",
    "    data_x = data[:, 1:]\n",
    "    data_x = convert_3D(normalize(data_x))\n",
    "    return data_x, data_y"
   ]
  },
  {
   "cell_type": "markdown",
   "id": "9e80b367-bc0b-4ba0-831f-d7202548c16c",
   "metadata": {},
   "source": [
    "Data imputation for nan's in flux data: predict data or delete nans"
   ]
  },
  {
   "cell_type": "code",
   "execution_count": 6,
   "id": "3b8712d2-f1d0-42a2-b8a8-488152af022c",
   "metadata": {},
   "outputs": [],
   "source": [
    "# trim data to fit matrix\n",
    "pdcsap_fluxes = pdcsap_fluxes[np.logical_not(np.isnan(pdcsap_fluxes))]\n",
    "low = (np.floor((len(pdcsap_fluxes)/3197))*3197).astype(int)\n",
    "pdcsap_fluxes = pdcsap_fluxes[0:low]\n",
    "pdcsap_fluxes = normalize(pdcsap_fluxes)\n",
    "pdcsap_fluxes = np.reshape(pdcsap_fluxes, (-1,3197))\n",
    "pdcsap_fluxes_3D = np.expand_dims(pdcsap_fluxes, -1)"
   ]
  },
  {
   "cell_type": "code",
   "execution_count": 7,
   "id": "9bd3d697-4981-42ed-9964-056ba19d6bf9",
   "metadata": {},
   "outputs": [],
   "source": [
    "test_x, test_y = features_and_labels(\"../archive/exoTest.csv\")\n",
    "test_x = test_x[1,:]\n",
    "test_x = np.expand_dims(test_x, -1)"
   ]
  },
  {
   "cell_type": "code",
   "execution_count": 8,
   "id": "b15ef2fb-4b70-42a3-b552-47b6317eb3f3",
   "metadata": {},
   "outputs": [],
   "source": [
    "#function that outputs true if ANY of the probabilities are greater than .50, else false\n",
    "def predict(probs):\n",
    "    for num in probs:\n",
    "        if num > 0.50:\n",
    "            return True\n",
    "    return False"
   ]
  },
  {
   "cell_type": "code",
   "execution_count": 9,
   "id": "52054a3d-9a10-4ce2-b421-c49496bc8801",
   "metadata": {},
   "outputs": [
    {
     "name": "stdout",
     "output_type": "stream",
     "text": [
      "WARNING:tensorflow:Model was constructed with shape (None, 3197, 1) for input KerasTensor(type_spec=TensorSpec(shape=(None, 3197, 1), dtype=tf.float32, name='lstm_input'), name='lstm_input', description=\"created by layer 'lstm_input'\"), but it was called on an input with incompatible shape (None, 1, 1).\n",
      "[[0.4974519 ]\n",
      " [0.4974443 ]\n",
      " [0.49745142]\n",
      " ...\n",
      " [0.49719384]\n",
      " [0.49719244]\n",
      " [0.49720958]]\n",
      "(LSTM) Is there an exoplanet?  False\n"
     ]
    }
   ],
   "source": [
    "# It can be used to reconstruct the model identically.\n",
    "reconstructed_model = keras.models.load_model(\"keras-models/KerasLSTM\")\n",
    "#print(reconstructed_model.predict(pdcsap_fluxes_3D))\n",
    "#print(\"(LSTM) Is there an exoplanet? \", predict(reconstructed_model.predict(pdcsap_fluxes_3D)))\n",
    "\n",
    "print(reconstructed_model.predict(test_x))\n",
    "print(\"(LSTM) Is there an exoplanet? \", predict(reconstructed_model.predict(test_x)))"
   ]
  },
  {
   "cell_type": "code",
   "execution_count": 10,
   "id": "efe6670a-f26e-4836-ac85-01a65dcd10b5",
   "metadata": {},
   "outputs": [
    {
     "name": "stdout",
     "output_type": "stream",
     "text": [
      "(GRU) Is there an exoplanet?  False\n"
     ]
    }
   ],
   "source": [
    "# It can be used to reconstruct the model identically.\n",
    "reconstructed_model = keras.models.load_model(\"keras-models/KerasGRU\")\n",
    "\n",
    "print(\"(GRU) Is there an exoplanet? \", predict(reconstructed_model.predict(pdcsap_fluxes_3D)))"
   ]
  },
  {
   "cell_type": "code",
   "execution_count": 11,
   "id": "ecf399f3-4e04-4aa6-8ee4-80c7a72b8cf6",
   "metadata": {},
   "outputs": [
    {
     "name": "stdout",
     "output_type": "stream",
     "text": [
      "(RNN) Is there an exoplanet?  False\n"
     ]
    }
   ],
   "source": [
    "# It can be used to reconstruct the model identically.\n",
    "reconstructed_model = keras.models.load_model(\"keras-models/KerasRNN\")\n",
    "\n",
    "print(\"(RNN) Is there an exoplanet? \", predict(reconstructed_model.predict(pdcsap_fluxes_3D)))"
   ]
  },
  {
   "cell_type": "code",
   "execution_count": 12,
   "id": "ff5b7f63-e885-4aae-8fd3-29e9751bf04b",
   "metadata": {},
   "outputs": [],
   "source": [
    "#Logistic Layer using a sigmoid function\n",
    "def logistic_layer(y):\n",
    "    y = np.array(y)\n",
    "    y = 1 / (1 + exp(-y)) # sigmoid function\n",
    "    y = y.ravel()\n",
    "    return y"
   ]
  },
  {
   "cell_type": "code",
   "execution_count": 13,
   "id": "4ea4e625-e097-4433-bb21-8de374263049",
   "metadata": {},
   "outputs": [
    {
     "name": "stdout",
     "output_type": "stream",
     "text": [
      "(LR-DFT) Is there an exoplanet?  True\n"
     ]
    }
   ],
   "source": [
    "with open('tf-models/multi-lr-dft.npy', 'rb') as f:\n",
    "    W = np.load(f)\n",
    "    b = np.load(f)\n",
    "    \n",
    "predicted_y = W * pdcsap_fluxes + b\n",
    "predicted_y = logistic_layer(predicted_y)\n",
    "\n",
    "print(\"(LR-DFT) Is there an exoplanet? \", predict(predicted_y))"
   ]
  },
  {
   "cell_type": "code",
   "execution_count": 14,
   "id": "e41cd798-ff44-4d4e-bc33-458e8beca6c6",
   "metadata": {},
   "outputs": [
    {
     "name": "stdout",
     "output_type": "stream",
     "text": [
      "(LR-OLS) Is there an exoplanet?  True\n"
     ]
    }
   ],
   "source": [
    "with open('tf-models/multi-lr-ols.npy', 'rb') as f:\n",
    "    W = np.load(f)\n",
    "    \n",
    "predicted_y = W * pdcsap_fluxes + b\n",
    "predicted_y = logistic_layer(predicted_y)\n",
    "\n",
    "print(\"(LR-OLS) Is there an exoplanet? \", predict(predicted_y))"
   ]
  },
  {
   "cell_type": "code",
   "execution_count": 15,
   "id": "f94d27fa-8f64-4c5a-88dd-2d59eba9c43e",
   "metadata": {},
   "outputs": [
    {
     "name": "stdout",
     "output_type": "stream",
     "text": [
      "(LR) Is there an exoplanet?  True\n"
     ]
    }
   ],
   "source": [
    "with open('tf-models/multi-lr.npy', 'rb') as f:\n",
    "    W = np.load(f)\n",
    "    b = np.load(f)\n",
    "    \n",
    "predicted_y = W * pdcsap_fluxes + b\n",
    "predicted_y = logistic_layer(predicted_y)\n",
    "\n",
    "print(\"(LR) Is there an exoplanet? \", predict(predicted_y))"
   ]
  },
  {
   "cell_type": "code",
   "execution_count": 16,
   "id": "103c743a-2bf5-4c43-b219-883c93a7b784",
   "metadata": {},
   "outputs": [
    {
     "name": "stdout",
     "output_type": "stream",
     "text": [
      "(Decision Tree) Is there an exoplanet?  False\n"
     ]
    }
   ],
   "source": [
    "with open('tf-models/decision-tree.pkl', 'rb') as f:\n",
    "    dt = pickle.load(f)\n",
    "\n",
    "pred = True\n",
    "if 0 in dt.predict(pdcsap_fluxes):\n",
    "    pred = False\n",
    "\n",
    "print(\"(Decision Tree) Is there an exoplanet? \", pred)"
   ]
  },
  {
   "cell_type": "code",
   "execution_count": 17,
   "id": "64a2c85c-689d-456f-a9d9-71e3cb94bbea",
   "metadata": {},
   "outputs": [
    {
     "name": "stdout",
     "output_type": "stream",
     "text": [
      "(Random Forest) Is there an exoplanet?  False\n"
     ]
    }
   ],
   "source": [
    "with open('tf-models/random-forest.pkl', 'rb') as f:\n",
    "    rf = pickle.load(f)\n",
    "\n",
    "pred = True\n",
    "if 0 in rf.predict(pdcsap_fluxes):\n",
    "    pred = False\n",
    "\n",
    "    \n",
    "print(\"(Random Forest) Is there an exoplanet? \", pred)"
   ]
  },
  {
   "cell_type": "code",
   "execution_count": null,
   "id": "7a3f550d-564d-4846-992e-69576e97e81e",
   "metadata": {},
   "outputs": [],
   "source": []
  }
 ],
 "metadata": {
  "deepnote": {
   "is_reactive": true
  },
  "deepnote_execution_queue": [],
  "deepnote_notebook_id": "ebacad77-917e-4852-9401-3d5c19a71f01",
  "environment": {
   "kernel": "python3",
   "name": "tf2-gpu.2-6.m82",
   "type": "gcloud",
   "uri": "gcr.io/deeplearning-platform-release/tf2-gpu.2-6:m82"
  },
  "kernelspec": {
   "display_name": "Python 3",
   "language": "python",
   "name": "python3"
  },
  "language_info": {
   "codemirror_mode": {
    "name": "ipython",
    "version": 3
   },
   "file_extension": ".py",
   "mimetype": "text/x-python",
   "name": "python",
   "nbconvert_exporter": "python",
   "pygments_lexer": "ipython3",
   "version": "3.7.10"
  }
 },
 "nbformat": 4,
 "nbformat_minor": 5
}
