{
 "cells": [
  {
   "cell_type": "code",
   "execution_count": 1,
   "id": "378fd52e",
   "metadata": {
    "cell_id": "00000-cddb6f2f-8474-4ca8-90a9-66a3832ddbbe",
    "deepnote_cell_type": "code",
    "deepnote_to_be_reexecuted": false,
    "execution_millis": 8,
    "execution_start": 1635035607510,
    "source_hash": "b8b92fc9"
   },
   "outputs": [],
   "source": [
    "import numpy as np\n",
    "from tensorflow import keras\n",
    "import pickle\n",
    "from numpy import exp\n",
    "import pandas as pd\n",
    "import os\n",
    "os.environ['TF_CPP_MIN_LOG_LEVEL'] = '3'\n"
   ]
  },
  {
   "cell_type": "code",
   "execution_count": 2,
   "id": "bab69637-c08e-4974-a3dd-740bb9808019",
   "metadata": {},
   "outputs": [
    {
     "name": "stdout",
     "output_type": "stream",
     "text": [
      "(1, 3197, 1)\n"
     ]
    }
   ],
   "source": [
    "with open('lk.npy', 'rb') as f:\n",
    "    test_x = np.load(f)\n",
    "\n",
    "test_x = test_x[:3197]-1\n",
    "test_o = np.expand_dims(test_x, -1)\n",
    "test_o = np.expand_dims(test_o, 0)\n",
    "print(test_o.shape)"
   ]
  },
  {
   "cell_type": "code",
   "execution_count": 3,
   "id": "52054a3d-9a10-4ce2-b421-c49496bc8801",
   "metadata": {},
   "outputs": [
    {
     "name": "stdout",
     "output_type": "stream",
     "text": [
      "[[0.47042587]]\n",
      "(LSTM) Is there an exoplanet?  [[0.47042587]]\n"
     ]
    }
   ],
   "source": [
    "# It can be used to reconstruct the model identically.\n",
    "reconstructed_model = keras.models.load_model(\"keras-models/KerasLSTM\")\n",
    "\n",
    "print(reconstructed_model.predict(test_o))\n",
    "print(\"(LSTM) Is there an exoplanet? \", reconstructed_model.predict(test_o))"
   ]
  },
  {
   "cell_type": "code",
   "execution_count": 4,
   "id": "efe6670a-f26e-4836-ac85-01a65dcd10b5",
   "metadata": {},
   "outputs": [
    {
     "name": "stdout",
     "output_type": "stream",
     "text": [
      "(GRU) Is there an exoplanet?  [[0.0246604]]\n"
     ]
    }
   ],
   "source": [
    "# It can be used to reconstruct the model identically.\n",
    "reconstructed_model = keras.models.load_model(\"keras-models/KerasGRU\")\n",
    "\n",
    "print(\"(GRU) Is there an exoplanet? \", reconstructed_model.predict(test_o))"
   ]
  },
  {
   "cell_type": "code",
   "execution_count": 5,
   "id": "ecf399f3-4e04-4aa6-8ee4-80c7a72b8cf6",
   "metadata": {},
   "outputs": [
    {
     "name": "stdout",
     "output_type": "stream",
     "text": [
      "(RNN) Is there an exoplanet?  [[0.4946455]]\n"
     ]
    }
   ],
   "source": [
    "# It can be used to reconstruct the model identically.\n",
    "reconstructed_model = keras.models.load_model(\"keras-models/KerasRNN\")\n",
    "\n",
    "print(\"(RNN) Is there an exoplanet? \", reconstructed_model.predict(test_o))"
   ]
  },
  {
   "cell_type": "code",
   "execution_count": 6,
   "id": "ff5b7f63-e885-4aae-8fd3-29e9751bf04b",
   "metadata": {},
   "outputs": [],
   "source": [
    "#Logistic Layer using a sigmoid function\n",
    "def logistic_layer(y):\n",
    "    y = np.array(y)\n",
    "    y = 1 / (1 + exp(-y)) # sigmoid function\n",
    "    y = y.ravel()\n",
    "    return y"
   ]
  },
  {
   "cell_type": "code",
   "execution_count": 7,
   "id": "4ea4e625-e097-4433-bb21-8de374263049",
   "metadata": {},
   "outputs": [
    {
     "name": "stdout",
     "output_type": "stream",
     "text": [
      "(LR-DFT) Is there an exoplanet?  [0.50001344 0.50001348 0.50001359 ... 0.50001321 0.50001346 0.50001342]\n"
     ]
    }
   ],
   "source": [
    "with open('tf-models/multi-lr-dft.npy', 'rb') as f:\n",
    "    W = np.load(f)\n",
    "    b = np.load(f)\n",
    "    \n",
    "predicted_y = W * test_x + b\n",
    "predicted_y = logistic_layer(predicted_y)\n",
    "\n",
    "print(\"(LR-DFT) Is there an exoplanet? \", predicted_y)"
   ]
  },
  {
   "cell_type": "code",
   "execution_count": 8,
   "id": "e41cd798-ff44-4d4e-bc33-458e8beca6c6",
   "metadata": {},
   "outputs": [
    {
     "name": "stdout",
     "output_type": "stream",
     "text": [
      "(LR-OLS) Is there an exoplanet?  [-0.00040853  0.00087324  0.00342588 ... -0.00439599 -0.00010204\n",
      " -0.00221074]\n"
     ]
    }
   ],
   "source": [
    "with open('tf-models/multi-lr-ols.npy', 'rb') as f:\n",
    "    W = np.load(f)\n",
    "    \n",
    "predicted_y = W * test_x + b\n",
    "predicted_y = logistic_layer(predicted_y)\n",
    "\n",
    "print(\"(LR-OLS) Is there an exoplanet? \", test_x)"
   ]
  },
  {
   "cell_type": "code",
   "execution_count": 9,
   "id": "f94d27fa-8f64-4c5a-88dd-2d59eba9c43e",
   "metadata": {},
   "outputs": [
    {
     "name": "stdout",
     "output_type": "stream",
     "text": [
      "(LR) Is there an exoplanet?  [0.50026312 0.5002633  0.50026347 ... 0.50026296 0.50026317 0.50026296]\n"
     ]
    }
   ],
   "source": [
    "with open('tf-models/multi-lr.npy', 'rb') as f:\n",
    "    W = np.load(f)\n",
    "    b = np.load(f)\n",
    "    \n",
    "predicted_y = W * test_x + b\n",
    "predicted_y = logistic_layer(predicted_y)\n",
    "\n",
    "print(\"(LR) Is there an exoplanet? \", predicted_y)"
   ]
  },
  {
   "cell_type": "code",
   "execution_count": 10,
   "id": "103c743a-2bf5-4c43-b219-883c93a7b784",
   "metadata": {},
   "outputs": [
    {
     "name": "stdout",
     "output_type": "stream",
     "text": [
      "(Decision Tree) Is there an exoplanet?  False\n"
     ]
    }
   ],
   "source": [
    "with open('tf-models/decision-tree.pkl', 'rb') as f:\n",
    "    dt = pickle.load(f)\n",
    "\n",
    "pred = True\n",
    "if 0 in dt.predict(test_x.reshape(1, -1)):\n",
    "    pred = False\n",
    "\n",
    "print(\"(Decision Tree) Is there an exoplanet? \", pred)"
   ]
  },
  {
   "cell_type": "code",
   "execution_count": 11,
   "id": "64a2c85c-689d-456f-a9d9-71e3cb94bbea",
   "metadata": {},
   "outputs": [
    {
     "name": "stdout",
     "output_type": "stream",
     "text": [
      "(Random Forest) Is there an exoplanet?  False\n"
     ]
    }
   ],
   "source": [
    "with open('tf-models/random-forest.pkl', 'rb') as f:\n",
    "    rf = pickle.load(f)\n",
    "\n",
    "pred = True\n",
    "if 0 in rf.predict(test_x.reshape(1, -1)):\n",
    "    pred = False\n",
    "\n",
    "print(\"(Random Forest) Is there an exoplanet? \", pred)"
   ]
  }
 ],
 "metadata": {
  "deepnote": {
   "is_reactive": true
  },
  "deepnote_execution_queue": [],
  "deepnote_notebook_id": "ebacad77-917e-4852-9401-3d5c19a71f01",
  "environment": {
   "kernel": "python3",
   "name": "tf2-gpu.2-6.m82",
   "type": "gcloud",
   "uri": "gcr.io/deeplearning-platform-release/tf2-gpu.2-6:m82"
  },
  "kernelspec": {
   "display_name": "Python 3",
   "language": "python",
   "name": "python3"
  },
  "language_info": {
   "codemirror_mode": {
    "name": "ipython",
    "version": 3
   },
   "file_extension": ".py",
   "mimetype": "text/x-python",
   "name": "python",
   "nbconvert_exporter": "python",
   "pygments_lexer": "ipython3",
   "version": "3.7.10"
  }
 },
 "nbformat": 4,
 "nbformat_minor": 5
}
