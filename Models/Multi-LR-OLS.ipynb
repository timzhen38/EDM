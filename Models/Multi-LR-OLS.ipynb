{
 "cells": [
  {
   "cell_type": "code",
   "execution_count": 1,
   "metadata": {
    "cell_id": "00000-2598cc49-fa3e-4f14-8cb9-eb6d90daef47",
    "deepnote_cell_type": "code",
    "deepnote_to_be_reexecuted": false,
    "execution_millis": 3,
    "execution_start": 1634168229575,
    "source_hash": "c4402e57",
    "tags": []
   },
   "outputs": [],
   "source": [
    "# https://cmdlinetips.com/2020/03/linear-regression-using-matrix-multiplication-in-python-using-numpy/\n",
    "# https://developer.ibm.com/articles/linear-regression-from-scratch/\n",
    "# https://coolum001.github.io/numpyols.html\n",
    "# https://online.stat.psu.edu/stat462/node/132/\n",
    "\n",
    "# Multivariable Logistic Regression Estimation using OLS\n",
    "import numpy as np\n",
    "import pandas as pd\n",
    "from numpy import exp"
   ]
  },
  {
   "cell_type": "code",
   "execution_count": 2,
   "metadata": {
    "cell_id": "00001-fcbc9cfb-21ae-41c7-b50c-4dc4b82d11bf",
    "deepnote_cell_type": "code",
    "deepnote_to_be_reexecuted": false,
    "execution_millis": 0,
    "execution_start": 1634168229624,
    "source_hash": "c0f4070c",
    "tags": []
   },
   "outputs": [],
   "source": [
    "#normalize X values to help model converge\n",
    "def normalize(data):\n",
    "    mean = np.mean(data, axis=1)\n",
    "    std = np.std(data, axis=1)\n",
    "    data = (data - mean) / std\n",
    "    return data"
   ]
  },
  {
   "cell_type": "code",
   "execution_count": 3,
   "metadata": {
    "cell_id": "00002-3c32cd28-3068-42e9-b394-ea87aaa23d85",
    "deepnote_cell_type": "code",
    "deepnote_to_be_reexecuted": false,
    "execution_millis": 0,
    "execution_start": 1634168229625,
    "source_hash": "ffc611b1",
    "tags": []
   },
   "outputs": [],
   "source": [
    "#retrieve and format data - into labels and examples from the dataset\n",
    "def features_and_labels(filename):\n",
    "    data = np.matrix(pd.read_csv(filename).values)\n",
    "\n",
    "    #we need to transpose data sets to be compatable with our weight vectors\n",
    "    data_y = data[:, 0]\n",
    "    data_y-=1 #binaryization of the categorical data\n",
    "\n",
    "    data_x = data[:, 1:]\n",
    "    data_x = normalize(data_x)\n",
    "    return data_x, data_y"
   ]
  },
  {
   "cell_type": "code",
   "execution_count": 4,
   "metadata": {
    "cell_id": "00004-60763f17-bf60-4d20-9842-12f50f75fe34",
    "deepnote_cell_type": "code",
    "deepnote_to_be_reexecuted": false,
    "execution_millis": 11860,
    "execution_start": 1634168229625,
    "source_hash": "3131adc9",
    "tags": []
   },
   "outputs": [],
   "source": [
    "training_data_x, training_data_y = features_and_labels(\"../archive/exoTrain.csv\")\n",
    "\n",
    "# Ordinary Least Squares (Estimation of the Weight vector)\n",
    "inv = np.linalg.inv(training_data_x.T.dot(training_data_x))\n",
    "W = inv.dot(training_data_x.T).dot(training_data_y) # OLS\n",
    "W = W.T"
   ]
  },
  {
   "cell_type": "code",
   "execution_count": 5,
   "metadata": {
    "cell_id": "00006-831f2915-04dc-4ea3-a898-edfc624ba9e6",
    "deepnote_cell_type": "code",
    "deepnote_to_be_reexecuted": false,
    "execution_millis": 16,
    "execution_start": 1634168241521,
    "source_hash": "27c812bc",
    "tags": []
   },
   "outputs": [],
   "source": [
    "#Logistic Layer using a sigmoid function\n",
    "def logistic_layer(y):\n",
    "    y = np.array(y)\n",
    "    y = 1 / (1 + exp(-y)) # sigmoid function\n",
    "    y = y.ravel()\n",
    "    return y"
   ]
  },
  {
   "cell_type": "code",
   "execution_count": 6,
   "metadata": {
    "cell_id": "00007-b690ae72-3eb2-43e7-8a69-3982437e5318",
    "deepnote_cell_type": "code",
    "deepnote_to_be_reexecuted": false,
    "execution_millis": 88326,
    "execution_start": 1634168241557,
    "source_hash": "b7072dad",
    "tags": []
   },
   "outputs": [],
   "source": [
    "#Calculate an accuracy metric\n",
    "def accuracy(predicted_y, true_y):\n",
    "    true_y = np.array(true_y).ravel()\n",
    "    counter = 0\n",
    "    for i in range(len(true_y)):\n",
    "        p_y = predicted_y[i]\n",
    "        t_y = true_y[i]\n",
    "        if (p_y>.5 and t_y == 1) or (p_y < .5 and t_y == 0):\n",
    "            counter+=1\n",
    "    counter = (counter/ len(true_y)) * 100\n",
    "    return counter"
   ]
  },
  {
   "cell_type": "code",
   "execution_count": 7,
   "metadata": {
    "cell_id": "00008-7d607cfb-d22b-4fbd-b8e1-4d2ebd63c461",
    "deepnote_cell_type": "code",
    "deepnote_to_be_reexecuted": false,
    "execution_millis": 724,
    "execution_start": 1634168270237,
    "source_hash": "14c3c765",
    "tags": []
   },
   "outputs": [
    {
     "name": "stdout",
     "output_type": "stream",
     "text": [
      "Accuracy percentage:  53.85964912280702 %\n"
     ]
    }
   ],
   "source": [
    "test_x, test_y = features_and_labels(\"../archive/exoTest.csv\")\n",
    "\n",
    "predicted_y = W * test_x.T\n",
    "predicted_y = logistic_layer(predicted_y)\n",
    "\n",
    "print(\"Accuracy percentage: \", accuracy(predicted_y, test_y), \"%\")"
   ]
  },
  {
   "cell_type": "code",
   "execution_count": 8,
   "metadata": {},
   "outputs": [],
   "source": [
    "with open('tf-models/multi-lr-ols.npy', 'wb') as f:\n",
    "    np.save(f, W)"
   ]
  }
 ],
 "metadata": {
  "deepnote": {
   "is_reactive": false
  },
  "deepnote_execution_queue": [],
  "deepnote_notebook_id": "bee00101-d693-42b1-aa21-0b600ff948f0",
  "environment": {
   "kernel": "python3",
   "name": "tf2-gpu.2-6.m82",
   "type": "gcloud",
   "uri": "gcr.io/deeplearning-platform-release/tf2-gpu.2-6:m82"
  },
  "kernelspec": {
   "display_name": "Python 3",
   "language": "python",
   "name": "python3"
  },
  "language_info": {
   "codemirror_mode": {
    "name": "ipython",
    "version": 3
   },
   "file_extension": ".py",
   "mimetype": "text/x-python",
   "name": "python",
   "nbconvert_exporter": "python",
   "pygments_lexer": "ipython3",
   "version": "3.7.10"
  }
 },
 "nbformat": 4,
 "nbformat_minor": 4
}
