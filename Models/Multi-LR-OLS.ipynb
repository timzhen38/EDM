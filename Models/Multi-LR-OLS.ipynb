{
 "cells": [
  {
   "cell_type": "code",
   "metadata": {
    "tags": [],
    "deepnote_to_be_reexecuted": false,
    "source_hash": "c4402e57",
    "execution_start": 1634168229575,
    "execution_millis": 3,
    "cell_id": "00000-2598cc49-fa3e-4f14-8cb9-eb6d90daef47",
    "deepnote_cell_type": "code"
   },
   "source": "# https://cmdlinetips.com/2020/03/linear-regression-using-matrix-multiplication-in-python-using-numpy/\n# https://developer.ibm.com/articles/linear-regression-from-scratch/\n# https://coolum001.github.io/numpyols.html\n# https://online.stat.psu.edu/stat462/node/132/\n\n# Multivariable Logistic Regression Estimation using OLS\nimport numpy as np\nimport pandas as pd\nfrom numpy import exp",
   "execution_count": null,
   "outputs": []
  },
  {
   "cell_type": "code",
   "metadata": {
    "tags": [],
    "deepnote_to_be_reexecuted": false,
    "source_hash": "c0f4070c",
    "execution_start": 1634168229624,
    "execution_millis": 0,
    "cell_id": "00001-fcbc9cfb-21ae-41c7-b50c-4dc4b82d11bf",
    "deepnote_cell_type": "code"
   },
   "source": "#normalize X values to help model converge\ndef normalize(data):\n    mean = np.mean(data, axis=1)\n    std = np.std(data, axis=1)\n    data = (data - mean) / std\n    return data",
   "execution_count": null,
   "outputs": []
  },
  {
   "cell_type": "code",
   "metadata": {
    "tags": [],
    "deepnote_to_be_reexecuted": false,
    "source_hash": "ffc611b1",
    "execution_start": 1634168229625,
    "execution_millis": 0,
    "cell_id": "00002-3c32cd28-3068-42e9-b394-ea87aaa23d85",
    "deepnote_cell_type": "code"
   },
   "source": "#retrieve and format data - into labels and examples from the dataset\ndef features_and_labels(filename):\n    data = np.matrix(pd.read_csv(filename).values)\n\n    #we need to transpose data sets to be compatable with our weight vectors\n    data_y = data[:, 0]\n    data_y-=1 #binaryization of the categorical data\n\n    data_x = data[:, 1:]\n    data_x = normalize(data_x)\n    return data_x, data_y",
   "execution_count": null,
   "outputs": []
  },
  {
   "cell_type": "code",
   "metadata": {
    "tags": [],
    "deepnote_to_be_reexecuted": false,
    "source_hash": "3131adc9",
    "execution_start": 1634168229625,
    "execution_millis": 11860,
    "cell_id": "00004-60763f17-bf60-4d20-9842-12f50f75fe34",
    "deepnote_cell_type": "code"
   },
   "source": "training_data_x, training_data_y = features_and_labels(\"../archive/exoTrain.csv\")\n\n# Ordinary Least Squares (Estimation of the Weight vector)\ninv = np.linalg.inv(training_data_x.T.dot(training_data_x))\nW = inv.dot(training_data_x.T).dot(training_data_y) # OLS\nW = W.T",
   "execution_count": null,
   "outputs": []
  },
  {
   "cell_type": "code",
   "metadata": {
    "tags": [],
    "deepnote_to_be_reexecuted": false,
    "source_hash": "27c812bc",
    "execution_start": 1634168241521,
    "execution_millis": 16,
    "cell_id": "00006-831f2915-04dc-4ea3-a898-edfc624ba9e6",
    "deepnote_cell_type": "code"
   },
   "source": "#Logistic Layer using a sigmoid function\ndef logistic_layer(y):\n    y = np.array(y)\n    y = 1 / (1 + exp(-y)) # sigmoid function\n    y = y.ravel()\n    return y",
   "execution_count": null,
   "outputs": []
  },
  {
   "cell_type": "code",
   "metadata": {
    "tags": [],
    "deepnote_to_be_reexecuted": false,
    "source_hash": "b7072dad",
    "execution_start": 1634168241557,
    "execution_millis": 88326,
    "cell_id": "00007-b690ae72-3eb2-43e7-8a69-3982437e5318",
    "deepnote_cell_type": "code"
   },
   "source": "#Calculate an accuracy metric\ndef accuracy(predicted_y, true_y):\n    true_y = np.array(true_y).ravel()\n    counter = 0\n    for i in range(len(true_y)):\n        p_y = predicted_y[i]\n        t_y = true_y[i]\n        if (p_y>.5 and t_y == 1) or (p_y < .5 and t_y == 0):\n            counter+=1\n    counter = (counter/ len(true_y)) * 100\n    return counter",
   "execution_count": null,
   "outputs": []
  },
  {
   "cell_type": "code",
   "metadata": {
    "tags": [],
    "deepnote_to_be_reexecuted": false,
    "source_hash": "14c3c765",
    "execution_start": 1634168270237,
    "execution_millis": 724,
    "cell_id": "00008-7d607cfb-d22b-4fbd-b8e1-4d2ebd63c461",
    "deepnote_cell_type": "code"
   },
   "source": "test_x, test_y = features_and_labels(\"../archive/exoTest.csv\")\n\npredicted_y = W * test_x.T\npredicted_y = logistic_layer(predicted_y)\n\nprint(\"Accuracy percentage: \", accuracy(predicted_y, test_y), \"%\")",
   "execution_count": null,
   "outputs": [
    {
     "name": "stdout",
     "text": "Accuracy percentage:  45.438596491228076 %\n",
     "output_type": "stream"
    }
   ]
  },
  {
   "cell_type": "markdown",
   "source": "<a style='text-decoration:none;line-height:16px;display:flex;color:#5B5B62;padding:10px;justify-content:end;' href='https://deepnote.com?utm_source=created-in-deepnote-cell&projectId=1c58af11-5d4f-40f3-a808-e868f2c28485' target=\"_blank\">\n<img alt='Created in deepnote.com' style='display:inline;max-height:16px;margin:0px;margin-right:7.5px;' src='data:image/svg+xml;base64,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' > </img>\nCreated in <span style='font-weight:600;margin-left:4px;'>Deepnote</span></a>",
   "metadata": {
    "tags": [],
    "created_in_deepnote_cell": true,
    "deepnote_cell_type": "markdown"
   }
  }
 ],
 "nbformat": 4,
 "nbformat_minor": 2,
 "metadata": {
  "orig_nbformat": 2,
  "deepnote": {
   "is_reactive": false
  },
  "deepnote_notebook_id": "bee00101-d693-42b1-aa21-0b600ff948f0",
  "deepnote_execution_queue": []
 }
}