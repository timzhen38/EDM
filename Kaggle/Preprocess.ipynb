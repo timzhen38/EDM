{
 "cells": [
  {
   "cell_type": "code",
   "execution_count": 4,
   "id": "480b90ca-b125-413f-b568-19c0922194c1",
   "metadata": {},
   "outputs": [],
   "source": [
    "import numpy as np\n",
    "import pandas as pd\n",
    "import matplotlib.pyplot as plt\n",
    "import pickle\n",
    "import lightkurve as lk\n",
    "import warnings\n",
    "warnings.filterwarnings(\"ignore\")"
   ]
  },
  {
   "cell_type": "code",
   "execution_count": 5,
   "id": "e4dcd697-c830-45fc-87a8-0257f2cbdf3e",
   "metadata": {},
   "outputs": [],
   "source": [
    "def search(periodogram, left_perc, right_perc):\n",
    "    max_p = 0\n",
    "    ass_p = 0\n",
    "    periods = periodogram.period.value\n",
    "    powers = periodogram.power.value\n",
    "    #print(periods, powers)\n",
    "    delta = periods[len(periods)-1] - periods[0]\n",
    "    left = periods[0] + delta*left_perc\n",
    "    right = periods[len(periods)-1] - delta*right_perc\n",
    "    for i in range(1,len(periods)):\n",
    "        if(periods[i] > left and periods[i] < right):\n",
    "            if(powers[i] > max_p):\n",
    "                max_p = powers[i]\n",
    "                ass_p = periods[i]\n",
    "    return ass_p"
   ]
  },
  {
   "cell_type": "code",
   "execution_count": 6,
   "id": "02300cfa-7f0c-4024-82be-d85d8ec40579",
   "metadata": {},
   "outputs": [],
   "source": [
    "def preprocess(data):    \n",
    "    fig = plt.figure(figsize=(12,40))\n",
    "    \n",
    "    #store processed light curve(flux) data\n",
    "    features = np.zeros(shape=(len(data),3192))\n",
    "    percent = 0\n",
    "    for i in range(37,60): \n",
    "        \n",
    "        #create light curve for each sample\n",
    "        lc = lk.LightCurve(time=time_x, flux=np.array(data[i,1:3193]).flatten())\n",
    "        #lc.scatter()\n",
    "        \n",
    "        #detrend lightcurve\n",
    "        lc = lc.flatten()\n",
    "        \n",
    "        #fil outliers with random noise\n",
    "        lc_temp, bool_mask = lc.remove_outliers(return_mask=True)\n",
    "        rands = np.random.normal(np.mean(lc.flux), np.std(lc.flux), np.count_nonzero(bool_mask))\n",
    "        replica = lc.flux\n",
    "        replica[bool_mask] = rands\n",
    "        #lc.scatter()\n",
    "        \n",
    "        #normalize\n",
    "        lc = lc.normalize(unit='ppm')\n",
    "        #lc.scatter()\n",
    "        \n",
    "        #Phase folding using dominant frequencies from periodogram\n",
    "        periodogram = lc.to_periodogram(\"bls\", oversample_factor=1)\n",
    "        #periodogram.plot()\n",
    "        period = search(periodogram, .01, .01) #trim edges of periodogram (BUG)\n",
    "        #print(period)\n",
    "        lc = lc.fold(period)\n",
    "        features[i,:] = lc.flux\n",
    "        #lc.scatter()\n",
    "        \n",
    "        if(((i / len(features)) * 100) > percent):\n",
    "            print(percent, \"%\")\n",
    "            percent += 1\n",
    "            \n",
    "        #graph all of them together\n",
    "        ax = fig.add_subplot(13,3,i+1-37)\n",
    "        ax.scatter(np.array(range(3192)),features[i,:])\n",
    "    return features"
   ]
  }
 ],
 "metadata": {
  "environment": {
   "kernel": "conda-root-py",
   "name": "tf2-gpu.2-6.m87",
   "type": "gcloud",
   "uri": "gcr.io/deeplearning-platform-release/tf2-gpu.2-6:m87"
  },
  "kernelspec": {
   "display_name": "Python [conda env:root] *",
   "language": "python",
   "name": "conda-root-py"
  },
  "language_info": {
   "codemirror_mode": {
    "name": "ipython",
    "version": 3
   },
   "file_extension": ".py",
   "mimetype": "text/x-python",
   "name": "python",
   "nbconvert_exporter": "python",
   "pygments_lexer": "ipython3",
   "version": "3.7.12"
  }
 },
 "nbformat": 4,
 "nbformat_minor": 5
}
