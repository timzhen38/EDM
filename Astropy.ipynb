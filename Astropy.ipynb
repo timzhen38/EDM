{
 "cells": [
  {
   "cell_type": "code",
   "execution_count": 1,
   "id": "378fd52e",
   "metadata": {
    "cell_id": "00000-cddb6f2f-8474-4ca8-90a9-66a3832ddbbe",
    "deepnote_cell_type": "code",
    "deepnote_to_be_reexecuted": false,
    "execution_millis": 8,
    "execution_start": 1635035607510,
    "source_hash": "b8b92fc9"
   },
   "outputs": [],
   "source": [
    "%matplotlib inline\n",
    "from astropy.io import fits\n",
    "from astroquery.mast import Observations\n",
    "import matplotlib.pyplot as plt\n",
    "import numpy as np\n",
    "import os"
   ]
  },
  {
   "cell_type": "code",
   "execution_count": 2,
   "id": "c3c121c6",
   "metadata": {
    "cell_id": "00001-364deb6b-fa03-4e74-98d2-44839e488371",
    "deepnote_cell_type": "code",
    "deepnote_to_be_reexecuted": false,
    "execution_millis": 576,
    "execution_start": 1635035607531,
    "source_hash": "273bec1f",
    "tags": []
   },
   "outputs": [
    {
     "name": "stdout",
     "output_type": "stream",
     "text": [
      "Number of Observations: 2\n",
      " obsID  obs_collection dataproduct_type ... parent_obsid dataRights calib_level\n",
      "------- -------------- ---------------- ... ------------ ---------- -----------\n",
      " 603364             K2       timeseries ...       603364     PUBLIC           2\n",
      " 603364             K2       timeseries ...       603364     PUBLIC           2\n",
      " 603364             K2       timeseries ...       603364     PUBLIC           2\n",
      "1073482             K2       timeseries ...      1073482     PUBLIC           2\n",
      "1073482             K2       timeseries ...      1073482     PUBLIC           2\n",
      "1073482             K2       timeseries ...      1073482     PUBLIC           2\n",
      "1073584             K2       timeseries ...      1073584     PUBLIC           2\n",
      "1073584             K2       timeseries ...      1073584     PUBLIC           2\n",
      "1073584             K2       timeseries ...      1073584     PUBLIC           2\n",
      "1073611             K2       timeseries ...      1073611     PUBLIC           2\n",
      "    ...            ...              ... ...          ...        ...         ...\n",
      "1230230             K2       timeseries ...      1230230     PUBLIC           2\n",
      "1230260             K2       timeseries ...      1230260     PUBLIC           2\n",
      "1230260             K2       timeseries ...      1230260     PUBLIC           2\n",
      "1230263             K2       timeseries ...      1230263     PUBLIC           2\n",
      "1230263             K2       timeseries ...      1230263     PUBLIC           2\n",
      "1230269             K2       timeseries ...      1230269     PUBLIC           2\n",
      "1230269             K2       timeseries ...      1230269     PUBLIC           2\n",
      "1230357             K2       timeseries ...      1230357     PUBLIC           2\n",
      "1230357             K2       timeseries ...      1230357     PUBLIC           2\n",
      "1230386             K2       timeseries ...      1230386     PUBLIC           2\n",
      "1230386             K2       timeseries ...      1230386     PUBLIC           2\n",
      "Length = 118 rows\n",
      "Downloading URL https://mast.stsci.edu/api/v0.1/Download/file?uri=mast:K2/url/hlsps/k2gap/c01/201300000/71519/hlsp_k2gap_k2_lightcurve_201371519-c01_kepler_v1_psd.txt to ./mastDownload/K2/k2gap201371519-c01_lc/hlsp_k2gap_k2_lightcurve_201371519-c01_kepler_v1_psd.txt ... [Done]\n",
      "Downloading URL https://mast.stsci.edu/api/v0.1/Download/file?uri=mast:K2/url/hlsps/k2gap/c01/201300000/71519/hlsp_k2gap_k2_lightcurve_201371519-c01_kepler_v1_prev.png to ./mastDownload/K2/k2gap201371519-c01_lc/hlsp_k2gap_k2_lightcurve_201371519-c01_kepler_v1_prev.png ... [Done]\n",
      "Downloading URL https://mast.stsci.edu/api/v0.1/Download/file?uri=mast:K2/url/hlsps/k2gap/c01/201300000/71519/hlsp_k2gap_k2_lightcurve_201371519-c01_kepler_v1_ts.txt to ./mastDownload/K2/k2gap201371519-c01_lc/hlsp_k2gap_k2_lightcurve_201371519-c01_kepler_v1_ts.txt ... [Done]\n",
      "Downloading URL https://mast.stsci.edu/api/v0.1/Download/file?uri=mast:K2/url/missions/k2/previews/c1/201300000/55000/ktwo201355124-c01_llc_bw_large.png to ./mastDownload/K2/ktwo201355124-c01_lc/ktwo201355124-c01_llc_bw_large.png ... [Done]\n",
      "Downloading URL https://mast.stsci.edu/api/v0.1/Download/file?uri=mast:K2/url/missions/k2/lightcurves/c1/201300000/55000/ktwo201355124-c01_llc.fits to ./mastDownload/K2/ktwo201355124-c01_lc/ktwo201355124-c01_llc.fits ... [Done]\n",
      "Downloading URL https://mast.stsci.edu/api/v0.1/Download/file?uri=mast:K2/url/missions/k2/target_pixel_files/c1/201300000/55000/ktwo201355124-c01_lpd-targ.fits.gz to ./mastDownload/K2/ktwo201355124-c01_lc/ktwo201355124-c01_lpd-targ.fits.gz ... [Done]\n",
      "Downloading URL https://mast.stsci.edu/api/v0.1/Download/file?uri=mast:K2/url/missions/k2/previews/c1/201300000/58000/ktwo201358789-c01_llc_bw_large.png to ./mastDownload/K2/ktwo201358789-c01_lc/ktwo201358789-c01_llc_bw_large.png ... [Done]\n",
      "Downloading URL https://mast.stsci.edu/api/v0.1/Download/file?uri=mast:K2/url/missions/k2/lightcurves/c1/201300000/58000/ktwo201358789-c01_llc.fits to ./mastDownload/K2/ktwo201358789-c01_lc/ktwo201358789-c01_llc.fits ... [Done]\n",
      "Downloading URL https://mast.stsci.edu/api/v0.1/Download/file?uri=mast:K2/url/missions/k2/target_pixel_files/c1/201300000/58000/ktwo201358789-c01_lpd-targ.fits.gz to ./mastDownload/K2/ktwo201358789-c01_lc/ktwo201358789-c01_lpd-targ.fits.gz ... [Done]\n",
      "Downloading URL https://mast.stsci.edu/api/v0.1/Download/file?uri=mast:K2/url/missions/k2/previews/c1/201300000/59000/ktwo201359715-c01_llc_bw_large.png to ./mastDownload/K2/ktwo201359715-c01_lc/ktwo201359715-c01_llc_bw_large.png ... [Done]\n",
      "Downloading URL https://mast.stsci.edu/api/v0.1/Download/file?uri=mast:K2/url/missions/k2/lightcurves/c1/201300000/59000/ktwo201359715-c01_llc.fits to ./mastDownload/K2/ktwo201359715-c01_lc/ktwo201359715-c01_llc.fits ... [Done]\n",
      "Downloading URL https://mast.stsci.edu/api/v0.1/Download/file?uri=mast:K2/url/missions/k2/target_pixel_files/c1/201300000/59000/ktwo201359715-c01_lpd-targ.fits.gz to ./mastDownload/K2/ktwo201359715-c01_lc/ktwo201359715-c01_lpd-targ.fits.gz ... [Done]\n",
      "Downloading URL https://mast.stsci.edu/api/v0.1/Download/file?uri=mast:K2/url/missions/k2/previews/c1/201300000/62000/ktwo201362181-c01_llc_bw_large.png to ./mastDownload/K2/ktwo201362181-c01_lc/ktwo201362181-c01_llc_bw_large.png ... [Done]\n",
      "Downloading URL https://mast.stsci.edu/api/v0.1/Download/file?uri=mast:K2/url/missions/k2/lightcurves/c1/201300000/62000/ktwo201362181-c01_llc.fits to ./mastDownload/K2/ktwo201362181-c01_lc/ktwo201362181-c01_llc.fits ... [Done]\n",
      "Downloading URL https://mast.stsci.edu/api/v0.1/Download/file?uri=mast:K2/url/missions/k2/target_pixel_files/c1/201300000/62000/ktwo201362181-c01_lpd-targ.fits.gz to ./mastDownload/K2/ktwo201362181-c01_lc/ktwo201362181-c01_lpd-targ.fits.gz ... [Done]\n",
      "Downloading URL https://mast.stsci.edu/api/v0.1/Download/file?uri=mast:K2/url/missions/k2/previews/c1/201300000/62000/ktwo201362310-c01_llc_bw_large.png to ./mastDownload/K2/ktwo201362310-c01_lc/ktwo201362310-c01_llc_bw_large.png ... [Done]\n",
      "Downloading URL https://mast.stsci.edu/api/v0.1/Download/file?uri=mast:K2/url/missions/k2/lightcurves/c1/201300000/62000/ktwo201362310-c01_llc.fits to ./mastDownload/K2/ktwo201362310-c01_lc/ktwo201362310-c01_llc.fits ... [Done]\n",
      "Downloading URL https://mast.stsci.edu/api/v0.1/Download/file?uri=mast:K2/url/missions/k2/target_pixel_files/c1/201300000/62000/ktwo201362310-c01_lpd-targ.fits.gz to ./mastDownload/K2/ktwo201362310-c01_lc/ktwo201362310-c01_lpd-targ.fits.gz ... [Done]\n",
      "Downloading URL https://mast.stsci.edu/api/v0.1/Download/file?uri=mast:K2/url/missions/k2/previews/c1/201300000/62000/ktwo201362882-c01_llc_bw_large.png to ./mastDownload/K2/ktwo201362882-c01_lc/ktwo201362882-c01_llc_bw_large.png ... [Done]\n",
      "Downloading URL https://mast.stsci.edu/api/v0.1/Download/file?uri=mast:K2/url/missions/k2/lightcurves/c1/201300000/62000/ktwo201362882-c01_llc.fits to ./mastDownload/K2/ktwo201362882-c01_lc/ktwo201362882-c01_llc.fits ... [Done]\n",
      "Downloading URL https://mast.stsci.edu/api/v0.1/Download/file?uri=mast:K2/url/missions/k2/target_pixel_files/c1/201300000/62000/ktwo201362882-c01_lpd-targ.fits.gz to ./mastDownload/K2/ktwo201362882-c01_lc/ktwo201362882-c01_lpd-targ.fits.gz ... [Done]\n",
      "Downloading URL https://mast.stsci.edu/api/v0.1/Download/file?uri=mast:K2/url/missions/k2/previews/c1/201300000/62000/ktwo201362970-c01_llc_bw_large.png to ./mastDownload/K2/ktwo201362970-c01_lc/ktwo201362970-c01_llc_bw_large.png ... [Done]\n",
      "Downloading URL https://mast.stsci.edu/api/v0.1/Download/file?uri=mast:K2/url/missions/k2/lightcurves/c1/201300000/62000/ktwo201362970-c01_llc.fits to ./mastDownload/K2/ktwo201362970-c01_lc/ktwo201362970-c01_llc.fits ... [Done]\n",
      "Downloading URL https://mast.stsci.edu/api/v0.1/Download/file?uri=mast:K2/url/missions/k2/target_pixel_files/c1/201300000/62000/ktwo201362970-c01_lpd-targ.fits.gz to ./mastDownload/K2/ktwo201362970-c01_lc/ktwo201362970-c01_lpd-targ.fits.gz ... [Done]\n",
      "Downloading URL https://mast.stsci.edu/api/v0.1/Download/file?uri=mast:K2/url/missions/k2/previews/c1/201300000/63000/ktwo201363339-c01_llc_bw_large.png to ./mastDownload/K2/ktwo201363339-c01_lc/ktwo201363339-c01_llc_bw_large.png ... [Done]\n",
      "Downloading URL https://mast.stsci.edu/api/v0.1/Download/file?uri=mast:K2/url/missions/k2/lightcurves/c1/201300000/63000/ktwo201363339-c01_llc.fits to ./mastDownload/K2/ktwo201363339-c01_lc/ktwo201363339-c01_llc.fits ... [Done]\n",
      "Downloading URL https://mast.stsci.edu/api/v0.1/Download/file?uri=mast:K2/url/missions/k2/target_pixel_files/c1/201300000/63000/ktwo201363339-c01_lpd-targ.fits.gz to ./mastDownload/K2/ktwo201363339-c01_lc/ktwo201363339-c01_lpd-targ.fits.gz ... [Done]\n",
      "Downloading URL https://mast.stsci.edu/api/v0.1/Download/file?uri=mast:K2/url/missions/k2/previews/c1/201300000/63000/ktwo201363635-c01_llc_bw_large.png to ./mastDownload/K2/ktwo201363635-c01_lc/ktwo201363635-c01_llc_bw_large.png ... [Done]\n",
      "Downloading URL https://mast.stsci.edu/api/v0.1/Download/file?uri=mast:K2/url/missions/k2/lightcurves/c1/201300000/63000/ktwo201363635-c01_llc.fits to ./mastDownload/K2/ktwo201363635-c01_lc/ktwo201363635-c01_llc.fits ... [Done]\n",
      "Downloading URL https://mast.stsci.edu/api/v0.1/Download/file?uri=mast:K2/url/missions/k2/target_pixel_files/c1/201300000/63000/ktwo201363635-c01_lpd-targ.fits.gz to ./mastDownload/K2/ktwo201363635-c01_lc/ktwo201363635-c01_lpd-targ.fits.gz ... [Done]\n",
      "Downloading URL https://mast.stsci.edu/api/v0.1/Download/file?uri=mast:K2/url/missions/k2/previews/c1/201300000/64000/ktwo201364426-c01_llc_bw_large.png to ./mastDownload/K2/ktwo201364426-c01_lc/ktwo201364426-c01_llc_bw_large.png ... [Done]\n",
      "Downloading URL https://mast.stsci.edu/api/v0.1/Download/file?uri=mast:K2/url/missions/k2/lightcurves/c1/201300000/64000/ktwo201364426-c01_llc.fits to ./mastDownload/K2/ktwo201364426-c01_lc/ktwo201364426-c01_llc.fits ... [Done]\n",
      "Downloading URL https://mast.stsci.edu/api/v0.1/Download/file?uri=mast:K2/url/missions/k2/target_pixel_files/c1/201300000/64000/ktwo201364426-c01_lpd-targ.fits.gz to ./mastDownload/K2/ktwo201364426-c01_lc/ktwo201364426-c01_lpd-targ.fits.gz ... [Done]\n",
      "Downloading URL https://mast.stsci.edu/api/v0.1/Download/file?uri=mast:K2/url/missions/k2/previews/c1/201300000/65000/ktwo201365335-c01_llc_bw_large.png to ./mastDownload/K2/ktwo201365335-c01_lc/ktwo201365335-c01_llc_bw_large.png ... [Done]\n",
      "Downloading URL https://mast.stsci.edu/api/v0.1/Download/file?uri=mast:K2/url/missions/k2/lightcurves/c1/201300000/65000/ktwo201365335-c01_llc.fits to ./mastDownload/K2/ktwo201365335-c01_lc/ktwo201365335-c01_llc.fits ... [Done]\n",
      "Downloading URL https://mast.stsci.edu/api/v0.1/Download/file?uri=mast:K2/url/missions/k2/target_pixel_files/c1/201300000/65000/ktwo201365335-c01_lpd-targ.fits.gz to ./mastDownload/K2/ktwo201365335-c01_lc/ktwo201365335-c01_lpd-targ.fits.gz ... [Done]\n",
      "INFO: Found cached file ./mastDownload/K2/ktwo201367065-c01_lc/ktwo201367065-c01_llc_bw_large.png with expected size 29292. [astroquery.query]\n",
      "INFO: Found cached file ./mastDownload/K2/ktwo201367065-c01_lc/ktwo201367065-c01_llc.fits with expected size 432000. [astroquery.query]\n",
      "INFO: Found cached file ./mastDownload/K2/ktwo201367065-c01_lc/ktwo201367065-c01_lpd-targ.fits.gz with expected size 17934744. [astroquery.query]\n",
      "Downloading URL https://mast.stsci.edu/api/v0.1/Download/file?uri=mast:K2/url/missions/k2/previews/c1/201300000/67000/ktwo201367487-c01_llc_bw_large.png to ./mastDownload/K2/ktwo201367487-c01_lc/ktwo201367487-c01_llc_bw_large.png ... [Done]\n",
      "Downloading URL https://mast.stsci.edu/api/v0.1/Download/file?uri=mast:K2/url/missions/k2/lightcurves/c1/201300000/67000/ktwo201367487-c01_llc.fits to ./mastDownload/K2/ktwo201367487-c01_lc/ktwo201367487-c01_llc.fits ... [Done]\n",
      "Downloading URL https://mast.stsci.edu/api/v0.1/Download/file?uri=mast:K2/url/missions/k2/target_pixel_files/c1/201300000/67000/ktwo201367487-c01_lpd-targ.fits.gz to ./mastDownload/K2/ktwo201367487-c01_lc/ktwo201367487-c01_lpd-targ.fits.gz ... [Done]\n",
      "Downloading URL https://mast.stsci.edu/api/v0.1/Download/file?uri=mast:K2/url/missions/k2/previews/c1/201300000/67000/ktwo201367817-c01_llc_bw_large.png to ./mastDownload/K2/ktwo201367817-c01_lc/ktwo201367817-c01_llc_bw_large.png ... [Done]\n",
      "Downloading URL https://mast.stsci.edu/api/v0.1/Download/file?uri=mast:K2/url/missions/k2/lightcurves/c1/201300000/67000/ktwo201367817-c01_llc.fits to ./mastDownload/K2/ktwo201367817-c01_lc/ktwo201367817-c01_llc.fits ... [Done]\n",
      "Downloading URL https://mast.stsci.edu/api/v0.1/Download/file?uri=mast:K2/url/missions/k2/target_pixel_files/c1/201300000/67000/ktwo201367817-c01_lpd-targ.fits.gz to ./mastDownload/K2/ktwo201367817-c01_lc/ktwo201367817-c01_lpd-targ.fits.gz ... [Done]\n",
      "Downloading URL https://mast.stsci.edu/api/v0.1/Download/file?uri=mast:K2/url/missions/k2/previews/c1/201300000/70000/ktwo201370375-c01_llc_bw_large.png to ./mastDownload/K2/ktwo201370375-c01_lc/ktwo201370375-c01_llc_bw_large.png ... [Done]\n",
      "Downloading URL https://mast.stsci.edu/api/v0.1/Download/file?uri=mast:K2/url/missions/k2/lightcurves/c1/201300000/70000/ktwo201370375-c01_llc.fits to ./mastDownload/K2/ktwo201370375-c01_lc/ktwo201370375-c01_llc.fits ... [Done]\n",
      "Downloading URL https://mast.stsci.edu/api/v0.1/Download/file?uri=mast:K2/url/missions/k2/target_pixel_files/c1/201300000/70000/ktwo201370375-c01_lpd-targ.fits.gz to ./mastDownload/K2/ktwo201370375-c01_lc/ktwo201370375-c01_lpd-targ.fits.gz ... [Done]\n",
      "Downloading URL https://mast.stsci.edu/api/v0.1/Download/file?uri=mast:K2/url/missions/k2/previews/c1/201300000/71000/ktwo201371519-c01_llc_bw_large.png to ./mastDownload/K2/ktwo201371519-c01_lc/ktwo201371519-c01_llc_bw_large.png ... [Done]\n",
      "Downloading URL https://mast.stsci.edu/api/v0.1/Download/file?uri=mast:K2/url/missions/k2/lightcurves/c1/201300000/71000/ktwo201371519-c01_llc.fits to ./mastDownload/K2/ktwo201371519-c01_lc/ktwo201371519-c01_llc.fits ... [Done]\n",
      "Downloading URL https://mast.stsci.edu/api/v0.1/Download/file?uri=mast:K2/url/missions/k2/target_pixel_files/c1/201300000/71000/ktwo201371519-c01_lpd-targ.fits.gz to ./mastDownload/K2/ktwo201371519-c01_lc/ktwo201371519-c01_lpd-targ.fits.gz ... [Done]\n",
      "Downloading URL https://mast.stsci.edu/api/v0.1/Download/file?uri=mast:K2/url/missions/k2/previews/c1/201300000/72000/ktwo201372216-c01_llc_bw_large.png to ./mastDownload/K2/ktwo201372216-c01_lc/ktwo201372216-c01_llc_bw_large.png ... [Done]\n",
      "Downloading URL https://mast.stsci.edu/api/v0.1/Download/file?uri=mast:K2/url/missions/k2/lightcurves/c1/201300000/72000/ktwo201372216-c01_llc.fits to ./mastDownload/K2/ktwo201372216-c01_lc/ktwo201372216-c01_llc.fits ... [Done]\n",
      "Downloading URL https://mast.stsci.edu/api/v0.1/Download/file?uri=mast:K2/url/missions/k2/target_pixel_files/c1/201300000/72000/ktwo201372216-c01_lpd-targ.fits.gz to ./mastDownload/K2/ktwo201372216-c01_lc/ktwo201372216-c01_lpd-targ.fits.gz ... [Done]\n",
      "Downloading URL https://mast.stsci.edu/api/v0.1/Download/file?uri=mast:K2/url/missions/k2/previews/c1/201300000/73000/ktwo201373330-c01_llc_bw_large.png to ./mastDownload/K2/ktwo201373330-c01_lc/ktwo201373330-c01_llc_bw_large.png ... [Done]\n",
      "Downloading URL https://mast.stsci.edu/api/v0.1/Download/file?uri=mast:K2/url/missions/k2/lightcurves/c1/201300000/73000/ktwo201373330-c01_llc.fits to ./mastDownload/K2/ktwo201373330-c01_lc/ktwo201373330-c01_llc.fits ... [Done]\n",
      "Downloading URL https://mast.stsci.edu/api/v0.1/Download/file?uri=mast:K2/url/missions/k2/target_pixel_files/c1/201300000/73000/ktwo201373330-c01_lpd-targ.fits.gz to ./mastDownload/K2/ktwo201373330-c01_lc/ktwo201373330-c01_lpd-targ.fits.gz ... [Done]\n",
      "Downloading URL https://mast.stsci.edu/api/v0.1/Download/file?uri=mast:K2/url/missions/k2/previews/c1/201300000/73000/ktwo201373411-c01_llc_bw_large.png to ./mastDownload/K2/ktwo201373411-c01_lc/ktwo201373411-c01_llc_bw_large.png ... [Done]\n",
      "Downloading URL https://mast.stsci.edu/api/v0.1/Download/file?uri=mast:K2/url/missions/k2/lightcurves/c1/201300000/73000/ktwo201373411-c01_llc.fits to ./mastDownload/K2/ktwo201373411-c01_lc/ktwo201373411-c01_llc.fits ... [Done]\n",
      "Downloading URL https://mast.stsci.edu/api/v0.1/Download/file?uri=mast:K2/url/missions/k2/target_pixel_files/c1/201300000/73000/ktwo201373411-c01_lpd-targ.fits.gz to ./mastDownload/K2/ktwo201373411-c01_lc/ktwo201373411-c01_lpd-targ.fits.gz ... [Done]\n",
      "Downloading URL https://mast.stsci.edu/api/v0.1/Download/file?uri=mast:K2/url/missions/k2/previews/c1/201300000/73000/ktwo201373523-c01_llc_bw_large.png to ./mastDownload/K2/ktwo201373523-c01_lc/ktwo201373523-c01_llc_bw_large.png ... [Done]\n",
      "Downloading URL https://mast.stsci.edu/api/v0.1/Download/file?uri=mast:K2/url/missions/k2/lightcurves/c1/201300000/73000/ktwo201373523-c01_llc.fits to ./mastDownload/K2/ktwo201373523-c01_lc/ktwo201373523-c01_llc.fits ... [Done]\n",
      "Downloading URL https://mast.stsci.edu/api/v0.1/Download/file?uri=mast:K2/url/missions/k2/target_pixel_files/c1/201300000/73000/ktwo201373523-c01_lpd-targ.fits.gz to ./mastDownload/K2/ktwo201373523-c01_lc/ktwo201373523-c01_lpd-targ.fits.gz ... [Done]\n",
      "Downloading URL https://mast.stsci.edu/api/v0.1/Download/file?uri=mast:K2/url/missions/k2/previews/c1/201300000/76000/ktwo201376852-c01_llc_bw_large.png to ./mastDownload/K2/ktwo201376852-c01_lc/ktwo201376852-c01_llc_bw_large.png ... [Done]\n",
      "Downloading URL https://mast.stsci.edu/api/v0.1/Download/file?uri=mast:K2/url/missions/k2/lightcurves/c1/201300000/76000/ktwo201376852-c01_llc.fits to ./mastDownload/K2/ktwo201376852-c01_lc/ktwo201376852-c01_llc.fits ... [Done]\n",
      "Downloading URL https://mast.stsci.edu/api/v0.1/Download/file?uri=mast:K2/url/missions/k2/target_pixel_files/c1/201300000/76000/ktwo201376852-c01_lpd-targ.fits.gz to ./mastDownload/K2/ktwo201376852-c01_lc/ktwo201376852-c01_lpd-targ.fits.gz ... [Done]\n",
      "Downloading URL https://mast.stsci.edu/api/v0.1/Download/file?uri=mast:K2/url/missions/k2/previews/c1/201300000/77000/ktwo201377662-c01_llc_bw_large.png to ./mastDownload/K2/ktwo201377662-c01_lc/ktwo201377662-c01_llc_bw_large.png ... [Done]\n",
      "Downloading URL https://mast.stsci.edu/api/v0.1/Download/file?uri=mast:K2/url/missions/k2/lightcurves/c1/201300000/77000/ktwo201377662-c01_llc.fits to ./mastDownload/K2/ktwo201377662-c01_lc/ktwo201377662-c01_llc.fits ... [Done]\n",
      "Downloading URL https://mast.stsci.edu/api/v0.1/Download/file?uri=mast:K2/url/missions/k2/target_pixel_files/c1/201300000/77000/ktwo201377662-c01_lpd-targ.fits.gz to ./mastDownload/K2/ktwo201377662-c01_lc/ktwo201377662-c01_lpd-targ.fits.gz ... [Done]\n",
      "Downloading URL https://mast.stsci.edu/api/v0.1/Download/file?uri=mast:K2/url/hlsps/polar/c01/201300000/54965/hlsp_polar_k2_lightcurve_201354965-c01_kepler_v1_llc-small.png to ./mastDownload/K2/polar201354965-c01_lc/hlsp_polar_k2_lightcurve_201354965-c01_kepler_v1_llc-small.png ... [Done]\n",
      "Downloading URL https://mast.stsci.edu/api/v0.1/Download/file?uri=mast:K2/url/hlsps/polar/c01/201300000/54965/hlsp_polar_k2_lightcurve_201354965-c01_kepler_v1_llc.fits to ./mastDownload/K2/polar201354965-c01_lc/hlsp_polar_k2_lightcurve_201354965-c01_kepler_v1_llc.fits ... [Done]\n",
      "Downloading URL https://mast.stsci.edu/api/v0.1/Download/file?uri=mast:K2/url/hlsps/polar/c01/201300000/55124/hlsp_polar_k2_lightcurve_201355124-c01_kepler_v1_llc-small.png to ./mastDownload/K2/polar201355124-c01_lc/hlsp_polar_k2_lightcurve_201355124-c01_kepler_v1_llc-small.png ... [Done]\n",
      "Downloading URL https://mast.stsci.edu/api/v0.1/Download/file?uri=mast:K2/url/hlsps/polar/c01/201300000/55124/hlsp_polar_k2_lightcurve_201355124-c01_kepler_v1_llc.fits to ./mastDownload/K2/polar201355124-c01_lc/hlsp_polar_k2_lightcurve_201355124-c01_kepler_v1_llc.fits ... [Done]\n",
      "Downloading URL https://mast.stsci.edu/api/v0.1/Download/file?uri=mast:K2/url/hlsps/polar/c01/201300000/58789/hlsp_polar_k2_lightcurve_201358789-c01_kepler_v1_llc-small.png to ./mastDownload/K2/polar201358789-c01_lc/hlsp_polar_k2_lightcurve_201358789-c01_kepler_v1_llc-small.png ... [Done]\n",
      "Downloading URL https://mast.stsci.edu/api/v0.1/Download/file?uri=mast:K2/url/hlsps/polar/c01/201300000/58789/hlsp_polar_k2_lightcurve_201358789-c01_kepler_v1_llc.fits to ./mastDownload/K2/polar201358789-c01_lc/hlsp_polar_k2_lightcurve_201358789-c01_kepler_v1_llc.fits ... [Done]\n",
      "Downloading URL https://mast.stsci.edu/api/v0.1/Download/file?uri=mast:K2/url/hlsps/polar/c01/201300000/59715/hlsp_polar_k2_lightcurve_201359715-c01_kepler_v1_llc-small.png to ./mastDownload/K2/polar201359715-c01_lc/hlsp_polar_k2_lightcurve_201359715-c01_kepler_v1_llc-small.png ... [Done]\n",
      "Downloading URL https://mast.stsci.edu/api/v0.1/Download/file?uri=mast:K2/url/hlsps/polar/c01/201300000/59715/hlsp_polar_k2_lightcurve_201359715-c01_kepler_v1_llc.fits to ./mastDownload/K2/polar201359715-c01_lc/hlsp_polar_k2_lightcurve_201359715-c01_kepler_v1_llc.fits ... [Done]\n",
      "Downloading URL https://mast.stsci.edu/api/v0.1/Download/file?uri=mast:K2/url/hlsps/polar/c01/201300000/62181/hlsp_polar_k2_lightcurve_201362181-c01_kepler_v1_llc-small.png to ./mastDownload/K2/polar201362181-c01_lc/hlsp_polar_k2_lightcurve_201362181-c01_kepler_v1_llc-small.png ... [Done]\n",
      "Downloading URL https://mast.stsci.edu/api/v0.1/Download/file?uri=mast:K2/url/hlsps/polar/c01/201300000/62181/hlsp_polar_k2_lightcurve_201362181-c01_kepler_v1_llc.fits to ./mastDownload/K2/polar201362181-c01_lc/hlsp_polar_k2_lightcurve_201362181-c01_kepler_v1_llc.fits ... [Done]\n",
      "Downloading URL https://mast.stsci.edu/api/v0.1/Download/file?uri=mast:K2/url/hlsps/polar/c01/201300000/62310/hlsp_polar_k2_lightcurve_201362310-c01_kepler_v1_llc-small.png to ./mastDownload/K2/polar201362310-c01_lc/hlsp_polar_k2_lightcurve_201362310-c01_kepler_v1_llc-small.png ... [Done]\n",
      "Downloading URL https://mast.stsci.edu/api/v0.1/Download/file?uri=mast:K2/url/hlsps/polar/c01/201300000/62310/hlsp_polar_k2_lightcurve_201362310-c01_kepler_v1_llc.fits to ./mastDownload/K2/polar201362310-c01_lc/hlsp_polar_k2_lightcurve_201362310-c01_kepler_v1_llc.fits ... [Done]\n",
      "Downloading URL https://mast.stsci.edu/api/v0.1/Download/file?uri=mast:K2/url/hlsps/polar/c01/201300000/62882/hlsp_polar_k2_lightcurve_201362882-c01_kepler_v1_llc-small.png to ./mastDownload/K2/polar201362882-c01_lc/hlsp_polar_k2_lightcurve_201362882-c01_kepler_v1_llc-small.png ... [Done]\n",
      "Downloading URL https://mast.stsci.edu/api/v0.1/Download/file?uri=mast:K2/url/hlsps/polar/c01/201300000/62882/hlsp_polar_k2_lightcurve_201362882-c01_kepler_v1_llc.fits to ./mastDownload/K2/polar201362882-c01_lc/hlsp_polar_k2_lightcurve_201362882-c01_kepler_v1_llc.fits ... [Done]\n",
      "Downloading URL https://mast.stsci.edu/api/v0.1/Download/file?uri=mast:K2/url/hlsps/polar/c01/201300000/62970/hlsp_polar_k2_lightcurve_201362970-c01_kepler_v1_llc-small.png to ./mastDownload/K2/polar201362970-c01_lc/hlsp_polar_k2_lightcurve_201362970-c01_kepler_v1_llc-small.png ... [Done]\n",
      "Downloading URL https://mast.stsci.edu/api/v0.1/Download/file?uri=mast:K2/url/hlsps/polar/c01/201300000/62970/hlsp_polar_k2_lightcurve_201362970-c01_kepler_v1_llc.fits to ./mastDownload/K2/polar201362970-c01_lc/hlsp_polar_k2_lightcurve_201362970-c01_kepler_v1_llc.fits ... [Done]\n",
      "Downloading URL https://mast.stsci.edu/api/v0.1/Download/file?uri=mast:K2/url/hlsps/polar/c01/201300000/63339/hlsp_polar_k2_lightcurve_201363339-c01_kepler_v1_llc-small.png to ./mastDownload/K2/polar201363339-c01_lc/hlsp_polar_k2_lightcurve_201363339-c01_kepler_v1_llc-small.png ... [Done]\n",
      "Downloading URL https://mast.stsci.edu/api/v0.1/Download/file?uri=mast:K2/url/hlsps/polar/c01/201300000/63339/hlsp_polar_k2_lightcurve_201363339-c01_kepler_v1_llc.fits to ./mastDownload/K2/polar201363339-c01_lc/hlsp_polar_k2_lightcurve_201363339-c01_kepler_v1_llc.fits ... [Done]\n",
      "Downloading URL https://mast.stsci.edu/api/v0.1/Download/file?uri=mast:K2/url/hlsps/polar/c01/201300000/63635/hlsp_polar_k2_lightcurve_201363635-c01_kepler_v1_llc-small.png to ./mastDownload/K2/polar201363635-c01_lc/hlsp_polar_k2_lightcurve_201363635-c01_kepler_v1_llc-small.png ... [Done]\n",
      "Downloading URL https://mast.stsci.edu/api/v0.1/Download/file?uri=mast:K2/url/hlsps/polar/c01/201300000/63635/hlsp_polar_k2_lightcurve_201363635-c01_kepler_v1_llc.fits to ./mastDownload/K2/polar201363635-c01_lc/hlsp_polar_k2_lightcurve_201363635-c01_kepler_v1_llc.fits ... [Done]\n",
      "Downloading URL https://mast.stsci.edu/api/v0.1/Download/file?uri=mast:K2/url/hlsps/polar/c01/201300000/64426/hlsp_polar_k2_lightcurve_201364426-c01_kepler_v1_llc-small.png to ./mastDownload/K2/polar201364426-c01_lc/hlsp_polar_k2_lightcurve_201364426-c01_kepler_v1_llc-small.png ... [Done]\n",
      "Downloading URL https://mast.stsci.edu/api/v0.1/Download/file?uri=mast:K2/url/hlsps/polar/c01/201300000/64426/hlsp_polar_k2_lightcurve_201364426-c01_kepler_v1_llc.fits to ./mastDownload/K2/polar201364426-c01_lc/hlsp_polar_k2_lightcurve_201364426-c01_kepler_v1_llc.fits ... [Done]\n",
      "Downloading URL https://mast.stsci.edu/api/v0.1/Download/file?uri=mast:K2/url/hlsps/polar/c01/201300000/65335/hlsp_polar_k2_lightcurve_201365335-c01_kepler_v1_llc-small.png to ./mastDownload/K2/polar201365335-c01_lc/hlsp_polar_k2_lightcurve_201365335-c01_kepler_v1_llc-small.png ... [Done]\n",
      "Downloading URL https://mast.stsci.edu/api/v0.1/Download/file?uri=mast:K2/url/hlsps/polar/c01/201300000/65335/hlsp_polar_k2_lightcurve_201365335-c01_kepler_v1_llc.fits to ./mastDownload/K2/polar201365335-c01_lc/hlsp_polar_k2_lightcurve_201365335-c01_kepler_v1_llc.fits ... [Done]\n",
      "INFO: Found cached file ./mastDownload/K2/polar201367065-c01_lc/hlsp_polar_k2_lightcurve_201367065-c01_kepler_v1_plots.pdf with expected size 328903. [astroquery.query]\n",
      "INFO: Found cached file ./mastDownload/K2/polar201367065-c01_lc/hlsp_polar_k2_lightcurve_201367065-c01_kepler_v1_llc-small.png with expected size 6216. [astroquery.query]\n",
      "INFO: Found cached file ./mastDownload/K2/polar201367065-c01_lc/hlsp_polar_k2_lightcurve_201367065-c01_kepler_v1_llc.fits with expected size 161280. [astroquery.query]\n",
      "Downloading URL https://mast.stsci.edu/api/v0.1/Download/file?uri=mast:K2/url/hlsps/polar/c01/201300000/67487/hlsp_polar_k2_lightcurve_201367487-c01_kepler_v1_llc-small.png to ./mastDownload/K2/polar201367487-c01_lc/hlsp_polar_k2_lightcurve_201367487-c01_kepler_v1_llc-small.png ... [Done]\n",
      "Downloading URL https://mast.stsci.edu/api/v0.1/Download/file?uri=mast:K2/url/hlsps/polar/c01/201300000/67487/hlsp_polar_k2_lightcurve_201367487-c01_kepler_v1_llc.fits to ./mastDownload/K2/polar201367487-c01_lc/hlsp_polar_k2_lightcurve_201367487-c01_kepler_v1_llc.fits ... [Done]\n",
      "Downloading URL https://mast.stsci.edu/api/v0.1/Download/file?uri=mast:K2/url/hlsps/polar/c01/201300000/67817/hlsp_polar_k2_lightcurve_201367817-c01_kepler_v1_llc-small.png to ./mastDownload/K2/polar201367817-c01_lc/hlsp_polar_k2_lightcurve_201367817-c01_kepler_v1_llc-small.png ... [Done]\n",
      "Downloading URL https://mast.stsci.edu/api/v0.1/Download/file?uri=mast:K2/url/hlsps/polar/c01/201300000/67817/hlsp_polar_k2_lightcurve_201367817-c01_kepler_v1_llc.fits to ./mastDownload/K2/polar201367817-c01_lc/hlsp_polar_k2_lightcurve_201367817-c01_kepler_v1_llc.fits ... [Done]\n",
      "Downloading URL https://mast.stsci.edu/api/v0.1/Download/file?uri=mast:K2/url/hlsps/polar/c01/201300000/69459/hlsp_polar_k2_lightcurve_201369459-c01_kepler_v1_llc-small.png to ./mastDownload/K2/polar201369459-c01_lc/hlsp_polar_k2_lightcurve_201369459-c01_kepler_v1_llc-small.png ... [Done]\n",
      "Downloading URL https://mast.stsci.edu/api/v0.1/Download/file?uri=mast:K2/url/hlsps/polar/c01/201300000/69459/hlsp_polar_k2_lightcurve_201369459-c01_kepler_v1_llc.fits to ./mastDownload/K2/polar201369459-c01_lc/hlsp_polar_k2_lightcurve_201369459-c01_kepler_v1_llc.fits ... [Done]\n",
      "Downloading URL https://mast.stsci.edu/api/v0.1/Download/file?uri=mast:K2/url/hlsps/polar/c01/201300000/70375/hlsp_polar_k2_lightcurve_201370375-c01_kepler_v1_llc-small.png to ./mastDownload/K2/polar201370375-c01_lc/hlsp_polar_k2_lightcurve_201370375-c01_kepler_v1_llc-small.png ... [Done]\n",
      "Downloading URL https://mast.stsci.edu/api/v0.1/Download/file?uri=mast:K2/url/hlsps/polar/c01/201300000/70375/hlsp_polar_k2_lightcurve_201370375-c01_kepler_v1_llc.fits to ./mastDownload/K2/polar201370375-c01_lc/hlsp_polar_k2_lightcurve_201370375-c01_kepler_v1_llc.fits ... [Done]\n",
      "Downloading URL https://mast.stsci.edu/api/v0.1/Download/file?uri=mast:K2/url/hlsps/polar/c01/201300000/71519/hlsp_polar_k2_lightcurve_201371519-c01_kepler_v1_llc-small.png to ./mastDownload/K2/polar201371519-c01_lc/hlsp_polar_k2_lightcurve_201371519-c01_kepler_v1_llc-small.png ... [Done]\n",
      "Downloading URL https://mast.stsci.edu/api/v0.1/Download/file?uri=mast:K2/url/hlsps/polar/c01/201300000/71519/hlsp_polar_k2_lightcurve_201371519-c01_kepler_v1_llc.fits to ./mastDownload/K2/polar201371519-c01_lc/hlsp_polar_k2_lightcurve_201371519-c01_kepler_v1_llc.fits ... [Done]\n",
      "Downloading URL https://mast.stsci.edu/api/v0.1/Download/file?uri=mast:K2/url/hlsps/polar/c01/201300000/72216/hlsp_polar_k2_lightcurve_201372216-c01_kepler_v1_llc-small.png to ./mastDownload/K2/polar201372216-c01_lc/hlsp_polar_k2_lightcurve_201372216-c01_kepler_v1_llc-small.png ... [Done]\n",
      "Downloading URL https://mast.stsci.edu/api/v0.1/Download/file?uri=mast:K2/url/hlsps/polar/c01/201300000/72216/hlsp_polar_k2_lightcurve_201372216-c01_kepler_v1_llc.fits to ./mastDownload/K2/polar201372216-c01_lc/hlsp_polar_k2_lightcurve_201372216-c01_kepler_v1_llc.fits ... [Done]\n",
      "Downloading URL https://mast.stsci.edu/api/v0.1/Download/file?uri=mast:K2/url/hlsps/polar/c01/201300000/73330/hlsp_polar_k2_lightcurve_201373330-c01_kepler_v1_llc-small.png to ./mastDownload/K2/polar201373330-c01_lc/hlsp_polar_k2_lightcurve_201373330-c01_kepler_v1_llc-small.png ... [Done]\n",
      "Downloading URL https://mast.stsci.edu/api/v0.1/Download/file?uri=mast:K2/url/hlsps/polar/c01/201300000/73330/hlsp_polar_k2_lightcurve_201373330-c01_kepler_v1_llc.fits to ./mastDownload/K2/polar201373330-c01_lc/hlsp_polar_k2_lightcurve_201373330-c01_kepler_v1_llc.fits ... [Done]\n",
      "Downloading URL https://mast.stsci.edu/api/v0.1/Download/file?uri=mast:K2/url/hlsps/polar/c01/201300000/73411/hlsp_polar_k2_lightcurve_201373411-c01_kepler_v1_llc-small.png to ./mastDownload/K2/polar201373411-c01_lc/hlsp_polar_k2_lightcurve_201373411-c01_kepler_v1_llc-small.png ... [Done]\n",
      "Downloading URL https://mast.stsci.edu/api/v0.1/Download/file?uri=mast:K2/url/hlsps/polar/c01/201300000/73411/hlsp_polar_k2_lightcurve_201373411-c01_kepler_v1_llc.fits to ./mastDownload/K2/polar201373411-c01_lc/hlsp_polar_k2_lightcurve_201373411-c01_kepler_v1_llc.fits ... [Done]\n",
      "Downloading URL https://mast.stsci.edu/api/v0.1/Download/file?uri=mast:K2/url/hlsps/polar/c01/201300000/73523/hlsp_polar_k2_lightcurve_201373523-c01_kepler_v1_llc-small.png to ./mastDownload/K2/polar201373523-c01_lc/hlsp_polar_k2_lightcurve_201373523-c01_kepler_v1_llc-small.png ... [Done]\n",
      "Downloading URL https://mast.stsci.edu/api/v0.1/Download/file?uri=mast:K2/url/hlsps/polar/c01/201300000/73523/hlsp_polar_k2_lightcurve_201373523-c01_kepler_v1_llc.fits to ./mastDownload/K2/polar201373523-c01_lc/hlsp_polar_k2_lightcurve_201373523-c01_kepler_v1_llc.fits ... [Done]\n",
      "Downloading URL https://mast.stsci.edu/api/v0.1/Download/file?uri=mast:K2/url/hlsps/polar/c01/201300000/76852/hlsp_polar_k2_lightcurve_201376852-c01_kepler_v1_llc-small.png to ./mastDownload/K2/polar201376852-c01_lc/hlsp_polar_k2_lightcurve_201376852-c01_kepler_v1_llc-small.png ... [Done]\n",
      "Downloading URL https://mast.stsci.edu/api/v0.1/Download/file?uri=mast:K2/url/hlsps/polar/c01/201300000/76852/hlsp_polar_k2_lightcurve_201376852-c01_kepler_v1_llc.fits to ./mastDownload/K2/polar201376852-c01_lc/hlsp_polar_k2_lightcurve_201376852-c01_kepler_v1_llc.fits ... [Done]\n",
      "Downloading URL https://mast.stsci.edu/api/v0.1/Download/file?uri=mast:K2/url/hlsps/polar/c01/201300000/77662/hlsp_polar_k2_lightcurve_201377662-c01_kepler_v1_llc-small.png to ./mastDownload/K2/polar201377662-c01_lc/hlsp_polar_k2_lightcurve_201377662-c01_kepler_v1_llc-small.png ... [Done]\n",
      "Downloading URL https://mast.stsci.edu/api/v0.1/Download/file?uri=mast:K2/url/hlsps/polar/c01/201300000/77662/hlsp_polar_k2_lightcurve_201377662-c01_kepler_v1_llc.fits to ./mastDownload/K2/polar201377662-c01_lc/hlsp_polar_k2_lightcurve_201377662-c01_kepler_v1_llc.fits ... [Done]\n",
      "                                              Local Path                                               ...\n",
      "------------------------------------------------------------------------------------------------------ ...\n",
      "      ./mastDownload/K2/k2gap201371519-c01_lc/hlsp_k2gap_k2_lightcurve_201371519-c01_kepler_v1_psd.txt ...\n",
      "     ./mastDownload/K2/k2gap201371519-c01_lc/hlsp_k2gap_k2_lightcurve_201371519-c01_kepler_v1_prev.png ...\n",
      "       ./mastDownload/K2/k2gap201371519-c01_lc/hlsp_k2gap_k2_lightcurve_201371519-c01_kepler_v1_ts.txt ...\n",
      "                             ./mastDownload/K2/ktwo201355124-c01_lc/ktwo201355124-c01_llc_bw_large.png ...\n",
      "                                     ./mastDownload/K2/ktwo201355124-c01_lc/ktwo201355124-c01_llc.fits ...\n",
      "                             ./mastDownload/K2/ktwo201355124-c01_lc/ktwo201355124-c01_lpd-targ.fits.gz ...\n",
      "                             ./mastDownload/K2/ktwo201358789-c01_lc/ktwo201358789-c01_llc_bw_large.png ...\n",
      "                                     ./mastDownload/K2/ktwo201358789-c01_lc/ktwo201358789-c01_llc.fits ...\n",
      "                             ./mastDownload/K2/ktwo201358789-c01_lc/ktwo201358789-c01_lpd-targ.fits.gz ...\n",
      "                             ./mastDownload/K2/ktwo201359715-c01_lc/ktwo201359715-c01_llc_bw_large.png ...\n",
      "                                                                                                   ... ...\n",
      "     ./mastDownload/K2/polar201372216-c01_lc/hlsp_polar_k2_lightcurve_201372216-c01_kepler_v1_llc.fits ...\n",
      "./mastDownload/K2/polar201373330-c01_lc/hlsp_polar_k2_lightcurve_201373330-c01_kepler_v1_llc-small.png ...\n",
      "     ./mastDownload/K2/polar201373330-c01_lc/hlsp_polar_k2_lightcurve_201373330-c01_kepler_v1_llc.fits ...\n",
      "./mastDownload/K2/polar201373411-c01_lc/hlsp_polar_k2_lightcurve_201373411-c01_kepler_v1_llc-small.png ...\n",
      "     ./mastDownload/K2/polar201373411-c01_lc/hlsp_polar_k2_lightcurve_201373411-c01_kepler_v1_llc.fits ...\n",
      "./mastDownload/K2/polar201373523-c01_lc/hlsp_polar_k2_lightcurve_201373523-c01_kepler_v1_llc-small.png ...\n",
      "     ./mastDownload/K2/polar201373523-c01_lc/hlsp_polar_k2_lightcurve_201373523-c01_kepler_v1_llc.fits ...\n",
      "./mastDownload/K2/polar201376852-c01_lc/hlsp_polar_k2_lightcurve_201376852-c01_kepler_v1_llc-small.png ...\n",
      "     ./mastDownload/K2/polar201376852-c01_lc/hlsp_polar_k2_lightcurve_201376852-c01_kepler_v1_llc.fits ...\n",
      "./mastDownload/K2/polar201377662-c01_lc/hlsp_polar_k2_lightcurve_201377662-c01_kepler_v1_llc-small.png ...\n",
      "     ./mastDownload/K2/polar201377662-c01_lc/hlsp_polar_k2_lightcurve_201377662-c01_kepler_v1_llc.fits ...\n",
      "Length = 118 rows\n"
     ]
    }
   ],
   "source": [
    "#filter data\n",
    "obsCount = Observations.query_criteria_count(\n",
    "                                             objectname = \"K2-3d\",\n",
    "                                             radius=\".00033 deg\",\n",
    "                                             obs_collection = \"K2\",\n",
    "                                             dataproduct_type = [\"timeseries\"]\n",
    "                                             )\n",
    "print(\"Number of Observations: %i\" % obsCount)\n",
    "\n",
    "obsTable = Observations.query_criteria(\n",
    "                                         objectname = \"K2-3d\",\n",
    "                                         \n",
    "                                         obs_collection = \"K2\",\n",
    "                                         dataproduct_type = [\"timeseries\"]\n",
    "                                     )\n",
    "#print(obsTable)\n",
    "\n",
    "#obsTable[0:5]['obsid','proposal_id','obs_id']\n",
    "#print(obsTable)\n",
    "\n",
    "#astroquery to retrieve the list of data products\n",
    "dataProducts = Observations.get_product_list(obsTable[0:])\n",
    "dataProducts.colnames\n",
    "\n",
    "dataProducts['obsID']\n",
    "\n",
    "print(dataProducts)\n",
    "\n",
    "want = dataProducts['description'] == \"Light curves\"\n",
    "#print(dataProducts[want])\n",
    "\n",
    "manifest = Observations.download_products(dataProducts)\n",
    "print(manifest)"
   ]
  },
  {
   "cell_type": "code",
   "execution_count": 3,
   "id": "8c219f2a",
   "metadata": {
    "cell_id": "00002-35352833-0e70-478b-ad20-e14ee14c2bd8",
    "deepnote_cell_type": "code",
    "deepnote_to_be_reexecuted": false,
    "execution_millis": 195,
    "execution_start": 1635035608119,
    "source_hash": "7d7d97c3",
    "tags": []
   },
   "outputs": [
    {
     "name": "stdout",
     "output_type": "stream",
     "text": [
      "                                              Local Path                                               ...\n",
      "------------------------------------------------------------------------------------------------------ ...\n",
      "      ./mastDownload/K2/k2gap201371519-c01_lc/hlsp_k2gap_k2_lightcurve_201371519-c01_kepler_v1_psd.txt ...\n",
      "     ./mastDownload/K2/k2gap201371519-c01_lc/hlsp_k2gap_k2_lightcurve_201371519-c01_kepler_v1_prev.png ...\n",
      "       ./mastDownload/K2/k2gap201371519-c01_lc/hlsp_k2gap_k2_lightcurve_201371519-c01_kepler_v1_ts.txt ...\n",
      "                             ./mastDownload/K2/ktwo201355124-c01_lc/ktwo201355124-c01_llc_bw_large.png ...\n",
      "                                     ./mastDownload/K2/ktwo201355124-c01_lc/ktwo201355124-c01_llc.fits ...\n",
      "                             ./mastDownload/K2/ktwo201355124-c01_lc/ktwo201355124-c01_lpd-targ.fits.gz ...\n",
      "                             ./mastDownload/K2/ktwo201358789-c01_lc/ktwo201358789-c01_llc_bw_large.png ...\n",
      "                                     ./mastDownload/K2/ktwo201358789-c01_lc/ktwo201358789-c01_llc.fits ...\n",
      "                             ./mastDownload/K2/ktwo201358789-c01_lc/ktwo201358789-c01_lpd-targ.fits.gz ...\n",
      "                             ./mastDownload/K2/ktwo201359715-c01_lc/ktwo201359715-c01_llc_bw_large.png ...\n",
      "                                                                                                   ... ...\n",
      "     ./mastDownload/K2/polar201372216-c01_lc/hlsp_polar_k2_lightcurve_201372216-c01_kepler_v1_llc.fits ...\n",
      "./mastDownload/K2/polar201373330-c01_lc/hlsp_polar_k2_lightcurve_201373330-c01_kepler_v1_llc-small.png ...\n",
      "     ./mastDownload/K2/polar201373330-c01_lc/hlsp_polar_k2_lightcurve_201373330-c01_kepler_v1_llc.fits ...\n",
      "./mastDownload/K2/polar201373411-c01_lc/hlsp_polar_k2_lightcurve_201373411-c01_kepler_v1_llc-small.png ...\n",
      "     ./mastDownload/K2/polar201373411-c01_lc/hlsp_polar_k2_lightcurve_201373411-c01_kepler_v1_llc.fits ...\n",
      "./mastDownload/K2/polar201373523-c01_lc/hlsp_polar_k2_lightcurve_201373523-c01_kepler_v1_llc-small.png ...\n",
      "     ./mastDownload/K2/polar201373523-c01_lc/hlsp_polar_k2_lightcurve_201373523-c01_kepler_v1_llc.fits ...\n",
      "./mastDownload/K2/polar201376852-c01_lc/hlsp_polar_k2_lightcurve_201376852-c01_kepler_v1_llc-small.png ...\n",
      "     ./mastDownload/K2/polar201376852-c01_lc/hlsp_polar_k2_lightcurve_201376852-c01_kepler_v1_llc.fits ...\n",
      "./mastDownload/K2/polar201377662-c01_lc/hlsp_polar_k2_lightcurve_201377662-c01_kepler_v1_llc-small.png ...\n",
      "     ./mastDownload/K2/polar201377662-c01_lc/hlsp_polar_k2_lightcurve_201377662-c01_kepler_v1_llc.fits ...\n",
      "Length = 118 rows\n"
     ]
    }
   ],
   "source": [
    "# Query Information\n",
    "mission = \"TESS\"\n",
    "dataProdType = [\"timeseries\"]\n",
    "GiProgram = \"*G011183*\"\n",
    "fileType = \"Light curves\"\n",
    "sector = 1\n",
    "\n",
    "# Query Mast Holdings\n",
    "obsTable = Observations.query_criteria(obs_collection = mission,\n",
    "                                       dataproduct_type = dataProdType,\n",
    "                                       sequence_number = sector,\n",
    "                                       proposal_id = GiProgram)\n",
    "\n",
    "# Get Product List\n",
    "dataProducts = Observations.get_product_list(obsTable[0:1])\n",
    "want = dataProducts['description'] == fileType\n",
    "\n",
    "# Download Data\n",
    "#manifest = Observations.download_products(dataProducts[want])\n",
    "print(manifest)"
   ]
  },
  {
   "cell_type": "code",
   "execution_count": 4,
   "id": "9ef57890",
   "metadata": {
    "cell_id": "00001-2a94e037-96ae-4ee4-b4a0-c75c0c5fce08",
    "deepnote_cell_type": "code",
    "deepnote_to_be_reexecuted": false,
    "execution_millis": 1,
    "execution_start": 1635035608319,
    "source_hash": "b85294ca"
   },
   "outputs": [],
   "source": [
    "# For the purposes of this tutorial, we just know the MAST URL location of the file we want to examine.\n",
    "#fits_file = \"https://archive.stsci.edu/missions/tess/tid/s0001/0000/0000/2515/5310/tess2018206045859-s0001-0000000025155310-0120-s_lc.fits\"\n",
    "fits_file = \"./mastDownload/K2/ktwo201367065-c01_lc/ktwo201367065-c01_llc.fits\"\n",
    "#abs_pathname = os.path.abspath(\"tess2018206045859-s0001-0000000025153007-0120-s_lc.fits\")\n",
    "\n",
    "#print(abs_pathname)\n",
    "#file=open(path, \"r\")\n",
    "#os.listdir()\n",
    "\n",
    "#nb_full_path = os.path.join(os.getcwd(),\"LR_ML.xlsx\" )\n",
    "#print(nb_full_path)"
   ]
  },
  {
   "cell_type": "code",
   "execution_count": 5,
   "id": "9bc30ec9",
   "metadata": {
    "cell_id": "00002-cdd7ab37-1811-40a1-a86a-2b80d0360d39",
    "deepnote_cell_type": "code",
    "deepnote_to_be_reexecuted": false,
    "execution_millis": 46,
    "execution_start": 1635035608371,
    "source_hash": "3d3dfdfb"
   },
   "outputs": [
    {
     "name": "stdout",
     "output_type": "stream",
     "text": [
      "Filename: ./mastDownload/K2/ktwo201367065-c01_lc/ktwo201367065-c01_llc.fits\n",
      "No.    Name      Ver    Type      Cards   Dimensions   Format\n",
      "  0  PRIMARY       1 PrimaryHDU      55   ()      \n",
      "  1  LIGHTCURVE    1 BinTableHDU    156   4022R x 20C   [D, E, J, E, E, E, E, E, E, J, D, E, D, E, D, E, D, E, E, E]   \n",
      "  2  APERTURE      1 ImageHDU        49   (18, 16)   int32   \n"
     ]
    }
   ],
   "source": [
    "fits.info(fits_file)\n",
    "fits.getdata(fits_file, ext=1).columns\n",
    "\n",
    "with fits.open(fits_file, mode=\"readonly\") as hdulist:\n",
    "    tess_bjds = hdulist[1].data['TIME']\n",
    "    sap_fluxes = hdulist[1].data['SAP_FLUX']\n",
    "    pdcsap_fluxes = hdulist[1].data['PDCSAP_FLUX']"
   ]
  },
  {
   "cell_type": "code",
   "execution_count": 6,
   "id": "3567ecd0",
   "metadata": {
    "cell_id": "00003-fd42de3f-1c5d-41d3-b656-8fec9d1a9c21",
    "deepnote_cell_type": "code",
    "deepnote_to_be_reexecuted": false,
    "execution_millis": 479,
    "execution_start": 1635035608433,
    "source_hash": "34d536fb"
   },
   "outputs": [
    {
     "data": {
      "image/png": "[encoded data removed]",
      "text/plain": [
       "<Figure size 432x288 with 1 Axes>"
      ]
     },
     "metadata": {
      "needs_background": "light"
     },
     "output_type": "display_data"
    }
   ],
   "source": [
    "# Define the epoch of primary transit in TBJD.  Our timestamps are also already in TBJD.\n",
    "t0 = 2405\n",
    "\n",
    "# Start figure and axis.\n",
    "fig, ax = plt.subplots()\n",
    "\n",
    "# Plot the timeseries in black circles.\n",
    "ax.plot(tess_bjds, pdcsap_fluxes, 'ko')\n",
    "\n",
    "# Center the x-axis on where we expect a transit to be (time = T0), and set\n",
    "# the x-axis range within +/- 1 day of T0.\n",
    "#ax.set_xlim(t0 - 10, t0 + 5)\n",
    "#plt.axis([0, 82, 0, 4900])\n",
    "\n",
    "# Overplot a red vertical line that should be where the transit occurs.\n",
    "#ax.axvline(x=t0, color=\"red\")\n",
    "\n",
    "# Let's label the axes and define a title for the figure.\n",
    "fig.suptitle(\"WASP-126 b Light Curve - Sector 1\")\n",
    "ax.set_ylabel(\"PDCSAP Flux (e-/s)\")\n",
    "ax.set_xlabel(\"Time (TBJD)\")\n",
    "\n",
    "# Adjust the left margin so the y-axis label shows up.\n",
    "plt.subplots_adjust(left=0.15)\n",
    "plt.show()"
   ]
  },
  {
   "cell_type": "code",
   "execution_count": 7,
   "id": "b5312cbe",
   "metadata": {
    "cell_id": "00006-6fe60752-e6bb-46e5-a529-6693983ae13d",
    "deepnote_cell_type": "code",
    "deepnote_to_be_reexecuted": false,
    "execution_millis": 7,
    "execution_start": 1635035608919,
    "source_hash": "f2bc5c0b",
    "tags": []
   },
   "outputs": [
    {
     "name": "stdout",
     "output_type": "stream",
     "text": [
      "4022\n",
      "4022\n"
     ]
    }
   ],
   "source": [
    "#print(tess_bjds)\n",
    "#for test in pdcsap_fluxes:\n",
    "#    print(test)\n",
    "print(len(pdcsap_fluxes))\n",
    "print(len(tess_bjds))\n",
    "#test"
   ]
  },
  {
   "cell_type": "code",
   "execution_count": 8,
   "id": "edf074b2-b46f-4457-aa7c-491d2d787b4f",
   "metadata": {},
   "outputs": [
    {
     "data": {
      "image/png": "[encoded data removed]",
      "text/plain": [
       "<Figure size 432x288 with 2 Axes>"
      ]
     },
     "metadata": {
      "needs_background": "light"
     },
     "output_type": "display_data"
    },
    {
     "name": "stdout",
     "output_type": "stream",
     "text": [
      "100001011\n"
     ]
    }
   ],
   "source": [
    "with fits.open(fits_file, mode=\"readonly\") as hdulist:\n",
    "    aperture = hdulist[2].data\n",
    "\n",
    "# Start figure and axis.\n",
    "fig, ax = plt.subplots()\n",
    "\n",
    "# Display the pixels as an image.\n",
    "cax = ax.imshow(aperture, cmap=plt.cm.YlGnBu_r, origin=\"lower\")\n",
    "\n",
    "# Add a color bar.\n",
    "cbar = fig.colorbar(cax)\n",
    "\n",
    "# Add a title to the plot.\n",
    "fig.suptitle(\"WASP-126 b Aperture - Sector 1\")\n",
    "plt.show()   \n",
    "\n",
    "# Break down a pixel value of 267 (yellow pixels displayed above) into its\n",
    "# constituent bits.\n",
    "bitmask = np.binary_repr(267)\n",
    "print(bitmask)"
   ]
  },
  {
   "cell_type": "code",
   "execution_count": 9,
   "id": "a1e6c89f",
   "metadata": {
    "cell_id": "00004-e07068c8-c985-46aa-ba4a-bc56eb2b4cb2",
    "deepnote_cell_type": "code",
    "deepnote_to_be_reexecuted": false,
    "execution_millis": 23,
    "execution_start": 1635035608930,
    "source_hash": "818a05e9"
   },
   "outputs": [
    {
     "ename": "KeyError",
     "evalue": "\"Key 'QUALITY' does not exist.\"",
     "output_type": "error",
     "traceback": [
      "\u001b[0;31m---------------------------------------------------------------------------\u001b[0m",
      "\u001b[0;31mValueError\u001b[0m                                Traceback (most recent call last)",
      "\u001b[0;32m/opt/conda/lib/python3.7/site-packages/astropy/io/fits/column.py\u001b[0m in \u001b[0;36m_get_index\u001b[0;34m(names, key)\u001b[0m\n\u001b[1;32m   2041\u001b[0m         \u001b[0;32mtry\u001b[0m\u001b[0;34m:\u001b[0m\u001b[0;34m\u001b[0m\u001b[0;34m\u001b[0m\u001b[0m\n\u001b[0;32m-> 2042\u001b[0;31m             \u001b[0mindx\u001b[0m \u001b[0;34m=\u001b[0m \u001b[0mnames\u001b[0m\u001b[0;34m.\u001b[0m\u001b[0mindex\u001b[0m\u001b[0;34m(\u001b[0m\u001b[0mkey\u001b[0m\u001b[0;34m.\u001b[0m\u001b[0mrstrip\u001b[0m\u001b[0;34m(\u001b[0m\u001b[0;34m)\u001b[0m\u001b[0;34m)\u001b[0m\u001b[0;34m\u001b[0m\u001b[0;34m\u001b[0m\u001b[0m\n\u001b[0m\u001b[1;32m   2043\u001b[0m         \u001b[0;32mexcept\u001b[0m \u001b[0mValueError\u001b[0m\u001b[0;34m:\u001b[0m\u001b[0;34m\u001b[0m\u001b[0;34m\u001b[0m\u001b[0m\n",
      "\u001b[0;31mValueError\u001b[0m: 'QUALITY' is not in list",
      "\nDuring handling of the above exception, another exception occurred:\n",
      "\u001b[0;31mKeyError\u001b[0m                                  Traceback (most recent call last)",
      "\u001b[0;32m/tmp/ipykernel_9750/2210463502.py\u001b[0m in \u001b[0;36m<module>\u001b[0;34m\u001b[0m\n\u001b[1;32m      2\u001b[0m \u001b[0;31m# that now.\u001b[0m\u001b[0;34m\u001b[0m\u001b[0;34m\u001b[0m\u001b[0;34m\u001b[0m\u001b[0m\n\u001b[1;32m      3\u001b[0m \u001b[0;32mwith\u001b[0m \u001b[0mfits\u001b[0m\u001b[0;34m.\u001b[0m\u001b[0mopen\u001b[0m\u001b[0;34m(\u001b[0m\u001b[0mfits_file\u001b[0m\u001b[0;34m,\u001b[0m \u001b[0mmode\u001b[0m\u001b[0;34m=\u001b[0m\u001b[0;34m\"readonly\"\u001b[0m\u001b[0;34m)\u001b[0m \u001b[0;32mas\u001b[0m \u001b[0mhdulist\u001b[0m\u001b[0;34m:\u001b[0m\u001b[0;34m\u001b[0m\u001b[0;34m\u001b[0m\u001b[0m\n\u001b[0;32m----> 4\u001b[0;31m     \u001b[0mqual_flags\u001b[0m \u001b[0;34m=\u001b[0m \u001b[0mhdulist\u001b[0m\u001b[0;34m[\u001b[0m\u001b[0;36m1\u001b[0m\u001b[0;34m]\u001b[0m\u001b[0;34m.\u001b[0m\u001b[0mdata\u001b[0m\u001b[0;34m[\u001b[0m\u001b[0;34m'QUALITY'\u001b[0m\u001b[0;34m]\u001b[0m\u001b[0;34m\u001b[0m\u001b[0;34m\u001b[0m\u001b[0m\n\u001b[0m",
      "\u001b[0;32m/opt/conda/lib/python3.7/site-packages/astropy/io/fits/fitsrec.py\u001b[0m in \u001b[0;36m__getitem__\u001b[0;34m(self, key)\u001b[0m\n\u001b[1;32m    502\u001b[0m \u001b[0;34m\u001b[0m\u001b[0m\n\u001b[1;32m    503\u001b[0m         \u001b[0;32mif\u001b[0m \u001b[0misinstance\u001b[0m\u001b[0;34m(\u001b[0m\u001b[0mkey\u001b[0m\u001b[0;34m,\u001b[0m \u001b[0mstr\u001b[0m\u001b[0;34m)\u001b[0m\u001b[0;34m:\u001b[0m\u001b[0;34m\u001b[0m\u001b[0;34m\u001b[0m\u001b[0m\n\u001b[0;32m--> 504\u001b[0;31m             \u001b[0;32mreturn\u001b[0m \u001b[0mself\u001b[0m\u001b[0;34m.\u001b[0m\u001b[0mfield\u001b[0m\u001b[0;34m(\u001b[0m\u001b[0mkey\u001b[0m\u001b[0;34m)\u001b[0m\u001b[0;34m\u001b[0m\u001b[0;34m\u001b[0m\u001b[0m\n\u001b[0m\u001b[1;32m    505\u001b[0m \u001b[0;34m\u001b[0m\u001b[0m\n\u001b[1;32m    506\u001b[0m         \u001b[0;31m# Have to view as a recarray then back as a FITS_rec, otherwise the\u001b[0m\u001b[0;34m\u001b[0m\u001b[0;34m\u001b[0m\u001b[0;34m\u001b[0m\u001b[0m\n",
      "\u001b[0;32m/opt/conda/lib/python3.7/site-packages/astropy/io/fits/fitsrec.py\u001b[0m in \u001b[0;36mfield\u001b[0;34m(self, key)\u001b[0m\n\u001b[1;32m    689\u001b[0m         \u001b[0;31m# NOTE: The *column* index may not be the same as the field index in\u001b[0m\u001b[0;34m\u001b[0m\u001b[0;34m\u001b[0m\u001b[0;34m\u001b[0m\u001b[0m\n\u001b[1;32m    690\u001b[0m         \u001b[0;31m# the recarray, if the column is a phantom column\u001b[0m\u001b[0;34m\u001b[0m\u001b[0;34m\u001b[0m\u001b[0;34m\u001b[0m\u001b[0m\n\u001b[0;32m--> 691\u001b[0;31m         \u001b[0mcolumn\u001b[0m \u001b[0;34m=\u001b[0m \u001b[0mself\u001b[0m\u001b[0;34m.\u001b[0m\u001b[0mcolumns\u001b[0m\u001b[0;34m[\u001b[0m\u001b[0mkey\u001b[0m\u001b[0;34m]\u001b[0m\u001b[0;34m\u001b[0m\u001b[0;34m\u001b[0m\u001b[0m\n\u001b[0m\u001b[1;32m    692\u001b[0m         \u001b[0mname\u001b[0m \u001b[0;34m=\u001b[0m \u001b[0mcolumn\u001b[0m\u001b[0;34m.\u001b[0m\u001b[0mname\u001b[0m\u001b[0;34m\u001b[0m\u001b[0;34m\u001b[0m\u001b[0m\n\u001b[1;32m    693\u001b[0m         \u001b[0mformat\u001b[0m \u001b[0;34m=\u001b[0m \u001b[0mcolumn\u001b[0m\u001b[0;34m.\u001b[0m\u001b[0mformat\u001b[0m\u001b[0;34m\u001b[0m\u001b[0;34m\u001b[0m\u001b[0m\n",
      "\u001b[0;32m/opt/conda/lib/python3.7/site-packages/astropy/io/fits/column.py\u001b[0m in \u001b[0;36m__getitem__\u001b[0;34m(self, key)\u001b[0m\n\u001b[1;32m   1641\u001b[0m     \u001b[0;32mdef\u001b[0m \u001b[0m__getitem__\u001b[0m\u001b[0;34m(\u001b[0m\u001b[0mself\u001b[0m\u001b[0;34m,\u001b[0m \u001b[0mkey\u001b[0m\u001b[0;34m)\u001b[0m\u001b[0;34m:\u001b[0m\u001b[0;34m\u001b[0m\u001b[0;34m\u001b[0m\u001b[0m\n\u001b[1;32m   1642\u001b[0m         \u001b[0;32mif\u001b[0m \u001b[0misinstance\u001b[0m\u001b[0;34m(\u001b[0m\u001b[0mkey\u001b[0m\u001b[0;34m,\u001b[0m \u001b[0mstr\u001b[0m\u001b[0;34m)\u001b[0m\u001b[0;34m:\u001b[0m\u001b[0;34m\u001b[0m\u001b[0;34m\u001b[0m\u001b[0m\n\u001b[0;32m-> 1643\u001b[0;31m             \u001b[0mkey\u001b[0m \u001b[0;34m=\u001b[0m \u001b[0m_get_index\u001b[0m\u001b[0;34m(\u001b[0m\u001b[0mself\u001b[0m\u001b[0;34m.\u001b[0m\u001b[0mnames\u001b[0m\u001b[0;34m,\u001b[0m \u001b[0mkey\u001b[0m\u001b[0;34m)\u001b[0m\u001b[0;34m\u001b[0m\u001b[0;34m\u001b[0m\u001b[0m\n\u001b[0m\u001b[1;32m   1644\u001b[0m \u001b[0;34m\u001b[0m\u001b[0m\n\u001b[1;32m   1645\u001b[0m         \u001b[0mx\u001b[0m \u001b[0;34m=\u001b[0m \u001b[0mself\u001b[0m\u001b[0;34m.\u001b[0m\u001b[0mcolumns\u001b[0m\u001b[0;34m[\u001b[0m\u001b[0mkey\u001b[0m\u001b[0;34m]\u001b[0m\u001b[0;34m\u001b[0m\u001b[0;34m\u001b[0m\u001b[0m\n",
      "\u001b[0;32m/opt/conda/lib/python3.7/site-packages/astropy/io/fits/column.py\u001b[0m in \u001b[0;36m_get_index\u001b[0;34m(names, key)\u001b[0m\n\u001b[1;32m   2049\u001b[0m                 \u001b[0mindx\u001b[0m \u001b[0;34m=\u001b[0m \u001b[0mnames\u001b[0m\u001b[0;34m.\u001b[0m\u001b[0mindex\u001b[0m\u001b[0;34m(\u001b[0m\u001b[0m_key\u001b[0m\u001b[0;34m)\u001b[0m\u001b[0;34m\u001b[0m\u001b[0;34m\u001b[0m\u001b[0m\n\u001b[1;32m   2050\u001b[0m             \u001b[0;32melif\u001b[0m \u001b[0mcount\u001b[0m \u001b[0;34m==\u001b[0m \u001b[0;36m0\u001b[0m\u001b[0;34m:\u001b[0m\u001b[0;34m\u001b[0m\u001b[0;34m\u001b[0m\u001b[0m\n\u001b[0;32m-> 2051\u001b[0;31m                 \u001b[0;32mraise\u001b[0m \u001b[0mKeyError\u001b[0m\u001b[0;34m(\u001b[0m\u001b[0;34mf\"Key '{key}' does not exist.\"\u001b[0m\u001b[0;34m)\u001b[0m\u001b[0;34m\u001b[0m\u001b[0;34m\u001b[0m\u001b[0m\n\u001b[0m\u001b[1;32m   2052\u001b[0m             \u001b[0;32melse\u001b[0m\u001b[0;34m:\u001b[0m              \u001b[0;31m# multiple match\u001b[0m\u001b[0;34m\u001b[0m\u001b[0;34m\u001b[0m\u001b[0m\n\u001b[1;32m   2053\u001b[0m                 \u001b[0;32mraise\u001b[0m \u001b[0mKeyError\u001b[0m\u001b[0;34m(\u001b[0m\u001b[0;34mf\"Ambiguous key name '{key}'.\"\u001b[0m\u001b[0;34m)\u001b[0m\u001b[0;34m\u001b[0m\u001b[0;34m\u001b[0m\u001b[0m\n",
      "\u001b[0;31mKeyError\u001b[0m: \"Key 'QUALITY' does not exist.\""
     ]
    }
   ],
   "source": [
    "# First we need to read in the array of cadence quality flags, let's do\n",
    "# that now.\n",
    "with fits.open(fits_file, mode=\"readonly\") as hdulist:\n",
    "    qual_flags = hdulist[1].data['QUALITY']"
   ]
  },
  {
   "cell_type": "code",
   "execution_count": null,
   "id": "7b9be4e6",
   "metadata": {
    "cell_id": "00005-a2f192d6-40c8-4cd7-bf69-e8c5007dd028",
    "deepnote_cell_type": "code",
    "deepnote_to_be_reexecuted": false,
    "execution_millis": 585,
    "execution_start": 1635035608970,
    "source_hash": "edc818c5"
   },
   "outputs": [],
   "source": [
    "# Start figure and axis.\n",
    "fig, ax = plt.subplots()\n",
    "\n",
    "# Plot the timeseries in black circles.\n",
    "ax.plot(tess_bjds, pdcsap_fluxes, 'ko')\n",
    "\n",
    "# Locate quality flags greater than zero.\n",
    "where_gt0 = np.where(qual_flags > 0)[0]\n",
    "\n",
    "# Overplot the fluxes with quality flags greater than zero in red.\n",
    "ax.plot(tess_bjds[where_gt0], pdcsap_fluxes[where_gt0], 'ro')\n",
    "\n",
    "# Let's label the axes and define a title for the figure.\n",
    "fig.suptitle(\"WASP-126 b Light Curve - Sector 1\")\n",
    "ax.set_ylabel(\"PDCSAP Flux (e-/s)\")\n",
    "ax.set_xlabel(\"Time (TBJD)\")\n",
    "plt.show()"
   ]
  },
  {
   "cell_type": "code",
   "execution_count": null,
   "id": "6e15f9ef",
   "metadata": {
    "cell_id": "00006-505e5fd9-dd71-479f-93b2-3424a36dba97",
    "deepnote_cell_type": "code",
    "deepnote_to_be_reexecuted": false,
    "execution_millis": 404,
    "execution_start": 1635035609653,
    "source_hash": "d235dccc"
   },
   "outputs": [],
   "source": [
    "with fits.open(fits_file, mode=\"readonly\") as hdulist:\n",
    "    aperture = hdulist[2].data\n",
    "\n",
    "# Start figure and axis.\n",
    "fig, ax = plt.subplots()\n",
    "\n",
    "# Display the pixels as an image.\n",
    "cax = ax.imshow(aperture, cmap=plt.cm.YlGnBu_r, origin=\"lower\")\n",
    "\n",
    "# Add a color bar.\n",
    "cbar = fig.colorbar(cax)\n",
    "\n",
    "# Add a title to the plot.\n",
    "fig.suptitle(\"WASP-126 b Aperture - Sector 1\")\n",
    "plt.show()   \n",
    "\n",
    "# Break down a pixel value of 267 (yellow pixels displayed above) into its\n",
    "# constituent bits.\n",
    "bitmask = np.binary_repr(267)\n",
    "print(bitmask)"
   ]
  },
  {
   "cell_type": "markdown",
   "id": "a1f43200",
   "metadata": {
    "created_in_deepnote_cell": true,
    "deepnote_cell_type": "markdown",
    "tags": []
   },
   "source": [
    "<a style='text-decoration:none;line-height:16px;display:flex;color:#5B5B62;padding:10px;justify-content:end;' href='https://deepnote.com?utm_source=created-in-deepnote-cell&projectId=1c58af11-5d4f-40f3-a808-e868f2c28485' target=\"_blank\">\n",
    "<img alt='Created in deepnote.com' style='display:inline;max-height:16px;margin:0px;margin-right:7.5px;' src='data:image/svg+xml;base64,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' > </img>\n",
    "Created in <span style='font-weight:600;margin-left:4px;'>Deepnote</span></a>"
   ]
  }
 ],
 "metadata": {
  "deepnote": {
   "is_reactive": true
  },
  "deepnote_execution_queue": [],
  "deepnote_notebook_id": "ebacad77-917e-4852-9401-3d5c19a71f01",
  "environment": {
   "kernel": "python3",
   "name": "tf2-gpu.2-6.m82",
   "type": "gcloud",
   "uri": "gcr.io/deeplearning-platform-release/tf2-gpu.2-6:m82"
  },
  "kernelspec": {
   "display_name": "Python 3",
   "language": "python",
   "name": "python3"
  },
  "language_info": {
   "codemirror_mode": {
    "name": "ipython",
    "version": 3
   },
   "file_extension": ".py",
   "mimetype": "text/x-python",
   "name": "python",
   "nbconvert_exporter": "python",
   "pygments_lexer": "ipython3",
   "version": "3.7.10"
  }
 },
 "nbformat": 4,
 "nbformat_minor": 5
}
