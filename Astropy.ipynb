{
 "cells": [
  {
   "cell_type": "code",
   "execution_count": 2,
   "id": "378fd52e",
   "metadata": {
    "cell_id": "00000-cddb6f2f-8474-4ca8-90a9-66a3832ddbbe",
    "deepnote_cell_type": "code",
    "deepnote_to_be_reexecuted": false,
    "execution_millis": 8,
    "execution_start": 1635035607510,
    "source_hash": "b8b92fc9"
   },
   "outputs": [],
   "source": [
    "%matplotlib inline\n",
    "from astropy.io import fits\n",
    "from astroquery.mast import Observations\n",
    "import matplotlib.pyplot as plt\n",
    "import numpy as np\n",
    "import os"
   ]
  },
  {
   "cell_type": "code",
   "execution_count": 3,
   "id": "c3c121c6",
   "metadata": {
    "cell_id": "00001-364deb6b-fa03-4e74-98d2-44839e488371",
    "deepnote_cell_type": "code",
    "deepnote_to_be_reexecuted": false,
    "execution_millis": 576,
    "execution_start": 1635035607531,
    "source_hash": "273bec1f",
    "tags": []
   },
   "outputs": [
    {
     "name": "stdout",
     "output_type": "stream",
     "text": [
      "Number of Observations: 102\n",
      " obsID   obs_collection dataproduct_type ... parent_obsid dataRights calib_level\n",
      "-------- -------------- ---------------- ... ------------ ---------- -----------\n",
      "62347175           TESS       timeseries ...     62347175     PUBLIC           3\n",
      "INFO: Found cached file ./mastDownload/TESS/tess2021175071901-s0040-0000000026817004-0211-s/tess2021175071901-s0040-0000000026817004-0211-s_lc.fits with expected size 2062080. [astroquery.query]\n",
      "                                                         Local Path                                                         ...\n",
      "--------------------------------------------------------------------------------------------------------------------------- ...\n",
      "./mastDownload/TESS/tess2021175071901-s0040-0000000026817004-0211-s/tess2021175071901-s0040-0000000026817004-0211-s_lc.fits ...\n"
     ]
    }
   ],
   "source": [
    "#filter data\n",
    "obsCount = Observations.query_criteria_count(obs_collection = \"TESS\",\n",
    "                                             dataproduct_type = [\"timeseries\"],\n",
    "                                             sequence_number = 40,\n",
    "                                             proposal_id = \"*G04098*\")\n",
    "print(\"Number of Observations: %i\" % obsCount)\n",
    "\n",
    "obsTable = Observations.query_criteria(obs_collection = \"TESS\",\n",
    "                                       dataproduct_type = [\"timeseries\"],\n",
    "                                       sequence_number = 40,\n",
    "                                       proposal_id = \"*G04098*\")\n",
    "obsTable[0:5]['obsid','proposal_id','obs_id']\n",
    "\n",
    "#astroquery to retrieve the list of data products\n",
    "dataProducts = Observations.get_product_list(obsTable[0:1])\n",
    "dataProducts.colnames\n",
    "\n",
    "dataProducts['obsID', 'productFilename', 'description']\n",
    "\n",
    "want = dataProducts['description'] == \"Light curves\"\n",
    "print(dataProducts[want])\n",
    "\n",
    "manifest = Observations.download_products(dataProducts[want])\n",
    "print(manifest)"
   ]
  },
  {
   "cell_type": "code",
   "execution_count": 4,
   "id": "8c219f2a",
   "metadata": {
    "cell_id": "00002-35352833-0e70-478b-ad20-e14ee14c2bd8",
    "deepnote_cell_type": "code",
    "deepnote_to_be_reexecuted": false,
    "execution_millis": 195,
    "execution_start": 1635035608119,
    "source_hash": "7d7d97c3",
    "tags": []
   },
   "outputs": [
    {
     "name": "stdout",
     "output_type": "stream",
     "text": [
      "INFO: Found cached file ./mastDownload/TESS/tess2018206045859-s0001-0000000099837626-0120-s/tess2018206045859-s0001-0000000099837626-0120-s_lc.fits with expected size 2039040. [astroquery.query]\n",
      "                                                         Local Path                                                         ...\n",
      "--------------------------------------------------------------------------------------------------------------------------- ...\n",
      "./mastDownload/TESS/tess2018206045859-s0001-0000000099837626-0120-s/tess2018206045859-s0001-0000000099837626-0120-s_lc.fits ...\n"
     ]
    }
   ],
   "source": [
    "# Query Information\n",
    "mission = \"TESS\"\n",
    "dataProdType = [\"timeseries\"]\n",
    "GiProgram = \"*G011183*\"\n",
    "fileType = \"Light curves\"\n",
    "sector = 1\n",
    "\n",
    "# Query Mast Holdings\n",
    "obsTable = Observations.query_criteria(obs_collection = mission,\n",
    "                                       dataproduct_type = dataProdType,\n",
    "                                       sequence_number = sector,\n",
    "                                       proposal_id = GiProgram)\n",
    "\n",
    "# Get Product List\n",
    "dataProducts = Observations.get_product_list(obsTable[0:1])\n",
    "want = dataProducts['description'] == fileType\n",
    "\n",
    "# Download Data\n",
    "manifest = Observations.download_products(dataProducts[want])\n",
    "print(manifest)"
   ]
  },
  {
   "cell_type": "code",
   "execution_count": 6,
   "id": "9ef57890",
   "metadata": {
    "cell_id": "00001-2a94e037-96ae-4ee4-b4a0-c75c0c5fce08",
    "deepnote_cell_type": "code",
    "deepnote_to_be_reexecuted": false,
    "execution_millis": 1,
    "execution_start": 1635035608319,
    "source_hash": "b85294ca"
   },
   "outputs": [],
   "source": [
    "# For the purposes of this tutorial, we just know the MAST URL location of the file we want to examine.\n",
    "#fits_file = \"https://archive.stsci.edu/missions/tess/tid/s0001/0000/0000/2515/5310/tess2018206045859-s0001-0000000025155310-0120-s_lc.fits\"\n",
    "fits_file = \"./mastDownload/TESS/tess2021175071901-s0040-0000000027769688-0211-a_fast/tess2021175071901-s0040-0000000027769688-0211-a_fast-lc.fits\"\n",
    "#fits_file = 'C:\\\\Users\\\\tobri\\\\TESSData\\\\tess2021175071901-s0040-0000000022114516-0211-s_lc.fits'\n",
    "#abs_pathname = os.path.abspath(\"tess2018206045859-s0001-0000000025153007-0120-s_lc.fits\")\n",
    "\n",
    "#print(abs_pathname)\n",
    "#file=open(path, \"r\")\n",
    "#os.listdir()\n",
    "\n",
    "#nb_full_path = os.path.join(os.getcwd(),\"LR_ML.xlsx\" )\n",
    "#print(nb_full_path)"
   ]
  },
  {
   "cell_type": "code",
   "execution_count": 7,
   "id": "9bc30ec9",
   "metadata": {
    "cell_id": "00002-cdd7ab37-1811-40a1-a86a-2b80d0360d39",
    "deepnote_cell_type": "code",
    "deepnote_to_be_reexecuted": false,
    "execution_millis": 46,
    "execution_start": 1635035608371,
    "source_hash": "3d3dfdfb"
   },
   "outputs": [
    {
     "name": "stdout",
     "output_type": "stream",
     "text": [
      "Filename: ./mastDownload/TESS/tess2021175071901-s0040-0000000027769688-0211-a_fast/tess2021175071901-s0040-0000000027769688-0211-a_fast-lc.fits\n",
      "No.    Name      Ver    Type      Cards   Dimensions   Format\n",
      "  0  PRIMARY       1 PrimaryHDU      44   ()      \n",
      "  1  LIGHTCURVE    1 BinTableHDU    167   121861R x 20C   [D, E, J, E, E, E, E, E, E, J, D, E, D, E, D, E, D, E, E, E]   \n",
      "  2  APERTURE      1 ImageHDU        49   (11, 11)   int32   \n"
     ]
    }
   ],
   "source": [
    "fits.info(fits_file)\n",
    "fits.getdata(fits_file, ext=1).columns\n",
    "\n",
    "with fits.open(fits_file, mode=\"readonly\") as hdulist:\n",
    "    tess_bjds = hdulist[1].data['TIME']\n",
    "    sap_fluxes = hdulist[1].data['SAP_FLUX']\n",
    "    pdcsap_fluxes = hdulist[1].data['PDCSAP_FLUX']"
   ]
  },
  {
   "cell_type": "code",
   "execution_count": 23,
   "id": "3567ecd0",
   "metadata": {
    "cell_id": "00003-fd42de3f-1c5d-41d3-b656-8fec9d1a9c21",
    "deepnote_cell_type": "code",
    "deepnote_to_be_reexecuted": false,
    "execution_millis": 479,
    "execution_start": 1635035608433,
    "source_hash": "34d536fb"
   },
   "outputs": [
    {
     "data": {
      "image/png": "[encoded data removed]",
      "text/plain": [
       "<Figure size 432x288 with 1 Axes>"
      ]
     },
     "metadata": {
      "needs_background": "light"
     },
     "output_type": "display_data"
    }
   ],
   "source": [
    "# Define the epoch of primary transit in TBJD.  Our timestamps are also already in TBJD.\n",
    "t0 = 2405\n",
    "\n",
    "# Start figure and axis.\n",
    "fig, ax = plt.subplots()\n",
    "\n",
    "# Plot the timeseries in black circles.\n",
    "ax.plot(tess_bjds, pdcsap_fluxes, 'ko')\n",
    "\n",
    "# Center the x-axis on where we expect a transit to be (time = T0), and set\n",
    "# the x-axis range within +/- 1 day of T0.\n",
    "ax.set_xlim(t0 - 10, t0 - 5)\n",
    "plt.axis([2395.1, 2395.2, 4500, 4900])\n",
    "\n",
    "# Overplot a red vertical line that should be where the transit occurs.\n",
    "ax.axvline(x=t0, color=\"red\")\n",
    "\n",
    "# Let's label the axes and define a title for the figure.\n",
    "fig.suptitle(\"WASP-126 b Light Curve - Sector 1\")\n",
    "ax.set_ylabel(\"PDCSAP Flux (e-/s)\")\n",
    "ax.set_xlabel(\"Time (TBJD)\")\n",
    "\n",
    "# Adjust the left margin so the y-axis label shows up.\n",
    "plt.subplots_adjust(left=0.15)\n",
    "plt.show()"
   ]
  },
  {
   "cell_type": "code",
   "execution_count": null,
   "id": "b5312cbe",
   "metadata": {
    "cell_id": "00006-6fe60752-e6bb-46e5-a529-6693983ae13d",
    "deepnote_cell_type": "code",
    "deepnote_to_be_reexecuted": false,
    "execution_millis": 7,
    "execution_start": 1635035608919,
    "source_hash": "f2bc5c0b",
    "tags": []
   },
   "outputs": [
    {
     "name": "stdout",
     "output_type": "stream",
     "text": [
      "121861\n",
      "121861\n"
     ]
    }
   ],
   "source": [
    "#print(tess_bjds)\n",
    "#for test in pdcsap_fluxes:\n",
    "#    print(test)\n",
    "print(len(pdcsap_fluxes))\n",
    "print(len(tess_bjds))\n",
    "#test"
   ]
  },
  {
   "cell_type": "code",
   "execution_count": null,
   "id": "a1e6c89f",
   "metadata": {
    "cell_id": "00004-e07068c8-c985-46aa-ba4a-bc56eb2b4cb2",
    "deepnote_cell_type": "code",
    "deepnote_to_be_reexecuted": false,
    "execution_millis": 23,
    "execution_start": 1635035608930,
    "source_hash": "818a05e9"
   },
   "outputs": [],
   "source": [
    "# First we need to read in the array of cadence quality flags, let's do\n",
    "# that now.\n",
    "with fits.open(fits_file, mode=\"readonly\") as hdulist:\n",
    "    qual_flags = hdulist[1].data['QUALITY']"
   ]
  },
  {
   "cell_type": "code",
   "execution_count": null,
   "id": "7b9be4e6",
   "metadata": {
    "cell_id": "00005-a2f192d6-40c8-4cd7-bf69-e8c5007dd028",
    "deepnote_cell_type": "code",
    "deepnote_to_be_reexecuted": false,
    "execution_millis": 585,
    "execution_start": 1635035608970,
    "source_hash": "edc818c5"
   },
   "outputs": [
    {
     "data": {
      "image/png": "[encoded data removed]",
      "text/plain": [
       "<Figure size 432x288 with 1 Axes>"
      ]
     },
     "metadata": {
      "needs_background": "light"
     },
     "output_type": "display_data"
    }
   ],
   "source": [
    "# Start figure and axis.\n",
    "fig, ax = plt.subplots()\n",
    "\n",
    "# Plot the timeseries in black circles.\n",
    "ax.plot(tess_bjds, pdcsap_fluxes, 'ko')\n",
    "\n",
    "# Locate quality flags greater than zero.\n",
    "where_gt0 = np.where(qual_flags > 0)[0]\n",
    "\n",
    "# Overplot the fluxes with quality flags greater than zero in red.\n",
    "ax.plot(tess_bjds[where_gt0], pdcsap_fluxes[where_gt0], 'ro')\n",
    "\n",
    "# Let's label the axes and define a title for the figure.\n",
    "fig.suptitle(\"WASP-126 b Light Curve - Sector 1\")\n",
    "ax.set_ylabel(\"PDCSAP Flux (e-/s)\")\n",
    "ax.set_xlabel(\"Time (TBJD)\")\n",
    "plt.show()"
   ]
  },
  {
   "cell_type": "code",
   "execution_count": null,
   "id": "6e15f9ef",
   "metadata": {
    "cell_id": "00006-505e5fd9-dd71-479f-93b2-3424a36dba97",
    "deepnote_cell_type": "code",
    "deepnote_to_be_reexecuted": false,
    "execution_millis": 404,
    "execution_start": 1635035609653,
    "source_hash": "d235dccc"
   },
   "outputs": [
    {
     "data": {
      "image/png": "[encoded data removed]",
      "text/plain": [
       "<Figure size 432x288 with 2 Axes>"
      ]
     },
     "metadata": {
      "needs_background": "light"
     },
     "output_type": "display_data"
    },
    {
     "name": "stdout",
     "output_type": "stream",
     "text": [
      "100001011\n"
     ]
    }
   ],
   "source": [
    "with fits.open(fits_file, mode=\"readonly\") as hdulist:\n",
    "    aperture = hdulist[2].data\n",
    "\n",
    "# Start figure and axis.\n",
    "fig, ax = plt.subplots()\n",
    "\n",
    "# Display the pixels as an image.\n",
    "cax = ax.imshow(aperture, cmap=plt.cm.YlGnBu_r, origin=\"lower\")\n",
    "\n",
    "# Add a color bar.\n",
    "cbar = fig.colorbar(cax)\n",
    "\n",
    "# Add a title to the plot.\n",
    "fig.suptitle(\"WASP-126 b Aperture - Sector 1\")\n",
    "plt.show()   \n",
    "\n",
    "# Break down a pixel value of 267 (yellow pixels displayed above) into its\n",
    "# constituent bits.\n",
    "bitmask = np.binary_repr(267)\n",
    "print(bitmask)"
   ]
  },
  {
   "cell_type": "markdown",
   "id": "a1f43200",
   "metadata": {
    "created_in_deepnote_cell": true,
    "deepnote_cell_type": "markdown",
    "tags": []
   },
   "source": [
    "<a style='text-decoration:none;line-height:16px;display:flex;color:#5B5B62;padding:10px;justify-content:end;' href='https://deepnote.com?utm_source=created-in-deepnote-cell&projectId=1c58af11-5d4f-40f3-a808-e868f2c28485' target=\"_blank\">\n",
    "<img alt='Created in deepnote.com' style='display:inline;max-height:16px;margin:0px;margin-right:7.5px;' src='data:image/svg+xml;base64,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' > </img>\n",
    "Created in <span style='font-weight:600;margin-left:4px;'>Deepnote</span></a>"
   ]
  }
 ],
 "metadata": {
  "deepnote": {
   "is_reactive": true
  },
  "deepnote_execution_queue": [],
  "deepnote_notebook_id": "ebacad77-917e-4852-9401-3d5c19a71f01",
  "environment": {
   "kernel": "python3",
   "name": "tf2-gpu.2-6.m82",
   "type": "gcloud",
   "uri": "gcr.io/deeplearning-platform-release/tf2-gpu.2-6:m82"
  },
  "kernelspec": {
   "display_name": "Python 3",
   "language": "python",
   "name": "python3"
  },
  "language_info": {
   "codemirror_mode": {
    "name": "ipython",
    "version": 3
   },
   "file_extension": ".py",
   "mimetype": "text/x-python",
   "name": "python",
   "nbconvert_exporter": "python",
   "pygments_lexer": "ipython3",
   "version": "3.7.10"
  }
 },
 "nbformat": 4,
 "nbformat_minor": 5
}
